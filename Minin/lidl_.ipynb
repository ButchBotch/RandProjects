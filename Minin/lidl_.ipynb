{
 "cells": [
  {
   "cell_type": "code",
   "execution_count": 1,
   "metadata": {},
   "outputs": [
    {
     "name": "stdout",
     "output_type": "stream",
     "text": [
      "Time spent : 3.0037989616394043 \n",
      "Attempts : 11445386\n"
     ]
    }
   ],
   "source": [
    "import itertools\n",
    "import string\n",
    "import time \n",
    "\n",
    "start = time.time()\n",
    "\n",
    "def guess_password(real):\n",
    "    chars = string.ascii_lowercase + string.ascii_uppercase + string.digits \n",
    "    attempts = 0\n",
    "    password_length=9\n",
    "    for guess in itertools.product(chars, repeat=password_length):\n",
    "        attempts += 1\n",
    "        guess = ''.join(guess)\n",
    "        if guess == real:\n",
    "            #print('password is {}. Found in {} guesses.'.format(guess, attempts))\n",
    "            return attempts\n",
    "        \n",
    "attempts=guess_password('aaaaaWbC9')\n",
    "end=time.time()\n",
    "time_spent=end-start\n",
    "print('Time spent :', time_spent,'\\nAttempts :',attempts)"
   ]
  },
  {
   "cell_type": "code",
   "execution_count": 2,
   "metadata": {},
   "outputs": [
    {
     "name": "stdout",
     "output_type": "stream",
     "text": [
      "Years : 112.6572166962312\n"
     ]
    }
   ],
   "source": [
    "# Calculate number of possible combinations of password\n",
    "digits=9\n",
    "possible_values=26+26+10\n",
    "possible_combinations=possible_values**digits\n",
    "\n",
    "# Time required for all combinations\n",
    "required_time=(time_spent/attempts)*possible_combinations\n",
    "seconds=required_time\n",
    "print('Years :', seconds/(3600*24*365))"
   ]
  },
  {
   "cell_type": "code",
   "execution_count": null,
   "metadata": {},
   "outputs": [],
   "source": []
  }
 ],
 "metadata": {
  "kernelspec": {
   "display_name": "Python 3",
   "language": "python",
   "name": "python3"
  },
  "language_info": {
   "codemirror_mode": {
    "name": "ipython",
    "version": 3
   },
   "file_extension": ".py",
   "mimetype": "text/x-python",
   "name": "python",
   "nbconvert_exporter": "python",
   "pygments_lexer": "ipython3",
   "version": "3.7.4"
  }
 },
 "nbformat": 4,
 "nbformat_minor": 2
}
