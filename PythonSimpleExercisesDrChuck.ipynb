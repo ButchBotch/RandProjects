{
 "cells": [
  {
   "cell_type": "code",
   "execution_count": null,
   "metadata": {},
   "outputs": [],
   "source": [
    "#find largest number in array\n",
    "\n",
    "def findmax(array):\n",
    "    largestSoFar=array[0]\n",
    "    print('Begins at : ', largestSoFar)\n",
    "    for i in array:\n",
    "        if i > largestSoFar:\n",
    "            largestSoFar=i\n",
    "        print('largestSoFar :', largestSoFar, 'arrayElement :', i)\n",
    "    return('Largest',largestSoFar)\n",
    "\n",
    "findmax([3,4,69,5,93,6])\n",
    "            \n",
    "                \n",
    "                "
   ]
  },
  {
   "cell_type": "code",
   "execution_count": null,
   "metadata": {},
   "outputs": [],
   "source": [
    "#count elements in array:\n",
    "def countEle(array):\n",
    "    count=0\n",
    "    for i in array:\n",
    "        count=count+1\n",
    "    return count\n",
    "\n",
    "countEle([1,2,4,5,2,0,4])"
   ]
  },
  {
   "cell_type": "code",
   "execution_count": null,
   "metadata": {},
   "outputs": [],
   "source": [
    "# sum of array\n",
    "\n",
    "def sumEle(array):\n",
    "    sum=0\n",
    "    for i in array:\n",
    "        sum+=i\n",
    "    return sum\n",
    "\n",
    "sumEle([1,2,4,5,2])"
   ]
  },
  {
   "cell_type": "code",
   "execution_count": null,
   "metadata": {},
   "outputs": [],
   "source": [
    "# find average\n",
    "def avgEle(array):\n",
    "    avg=sumEle(array)/countEle(array)\n",
    "    return avg\n",
    "avgEle([1,2,3,4])"
   ]
  },
  {
   "cell_type": "code",
   "execution_count": null,
   "metadata": {},
   "outputs": [],
   "source": [
    "#create array with No>x\n",
    "import numpy as np\n",
    "\n",
    "def biggerThanFun(array,biggerThan):\n",
    "    newarray=np.zeros(len(array))\n",
    "    count=0\n",
    "    for i in array:\n",
    "        if i > biggerThan:\n",
    "            newarray[count]=i\n",
    "            count+=1\n",
    "    print ('Elements of ',array , ' Bigger Than ', biggerThan , ':', newarray[:count])\n",
    "\n",
    "biggerThanFun([1,2,3,4,5,7],4)\n",
    "        \n",
    "    "
   ]
  },
  {
   "cell_type": "code",
   "execution_count": null,
   "metadata": {},
   "outputs": [],
   "source": [
    "# find location of element\n",
    "import numpy as np\n",
    "\n",
    "def findEle(array,element):\n",
    "    event=0\n",
    "    foundEv=0\n",
    "    jev=np.zeros(len(array))\n",
    "    j=np.zeros(len(array))\n",
    "    for i in array:\n",
    "        if i == element:\n",
    "            j[event]=1\n",
    "            jev[foundEv]=event\n",
    "            foundEv+=1\n",
    "        event+=1\n",
    "        jav=jev[:foundEv]\n",
    "    print ('The ', element,\"'s are in locations\", jav )\n",
    "\n",
    "findEle([1,2,3,2,4,5,2],2)\n",
    "            "
   ]
  },
  {
   "cell_type": "code",
   "execution_count": null,
   "metadata": {},
   "outputs": [],
   "source": [
    "# find e-mail host from sentence\n",
    "def findEmailHost(sentence):\n",
    "    atsign=sentence.find('@')\n",
    "    nextspace=sentence.find(' ', atsign)\n",
    "    host=sentence[(atsign+1):nextspace]\n",
    "    return host\n",
    "\n",
    "findEmailHost('from patrici.rivera@uct.ac.za Sat Jan 42 2030')"
   ]
  },
  {
   "cell_type": "code",
   "execution_count": null,
   "metadata": {},
   "outputs": [],
   "source": [
    "# create text file to play with later\n",
    "f= open(\"sampletext.txt\",\"w+\")\n",
    "for i in range(10):\n",
    "    f.write(\"This is line %d\\r\\n\" % (i+1))\n",
    "f.close() "
   ]
  },
  {
   "cell_type": "code",
   "execution_count": null,
   "metadata": {},
   "outputs": [],
   "source": [
    "# count lines in a textfile\n",
    "def lineCount(file):\n",
    "    fhand=open(file)\n",
    "    count=0\n",
    "    for line in fhand:\n",
    "        count+=1\n",
    "    print(\"The file has\", count, \"lines\")\n",
    "\n",
    "lineCount(\"sampletext.txt\")"
   ]
  },
  {
   "cell_type": "code",
   "execution_count": null,
   "metadata": {},
   "outputs": [],
   "source": [
    "#Read txt file\n",
    "fhand=open('mbox.txt')\n",
    "inp=fhand.read()\n",
    "print(inp[:570])"
   ]
  },
  {
   "cell_type": "code",
   "execution_count": null,
   "metadata": {},
   "outputs": [],
   "source": [
    "#Find lines that start with\n",
    "def startWith(file,startw):\n",
    "    try:\n",
    "        fhand=open(file)\n",
    "    except:\n",
    "        print('errrorr file',file,'can;t opent')\n",
    "        quit()\n",
    "        \n",
    "    for line in fhand:\n",
    "        if line.startswith(startw):\n",
    "            print(line.rstrip())\n",
    "            \n",
    "startWith('mbox.txt','From:')"
   ]
  },
  {
   "cell_type": "code",
   "execution_count": null,
   "metadata": {},
   "outputs": [],
   "source": [
    "r1=list()\n",
    "r2=str()\n",
    "dir(r1)"
   ]
  },
  {
   "cell_type": "code",
   "execution_count": null,
   "metadata": {},
   "outputs": [],
   "source": [
    "# creating a list\n",
    "crlist=list() #empty\n",
    "crlist.append('book')\n",
    "crlist.append(66)\n",
    "print(crlist)"
   ]
  },
  {
   "cell_type": "code",
   "execution_count": null,
   "metadata": {},
   "outputs": [],
   "source": [
    "# type numbers, type done, and calc avg\n",
    "numlist=list()\n",
    "while True:\n",
    "    num=input('Enter Number, or \"done\"')\n",
    "    if num=='done':\n",
    "        break\n",
    "    value=float(num)\n",
    "    numlist.append(value)\n",
    "\n",
    "average=sum(numlist)/len(numlist)\n",
    "print('Average :',average)"
   ]
  },
  {
   "cell_type": "code",
   "execution_count": null,
   "metadata": {},
   "outputs": [],
   "source": [
    "# same with different method (less memory usage)\n",
    "total=0\n",
    "count=0\n",
    "while True:\n",
    "    inp=input('Enter number, or \"done\"')\n",
    "    if inp == 'done': \n",
    "        break\n",
    "    total+=float(value)\n",
    "    count+=1\n",
    "average=total/count\n",
    "print('Average :', average)"
   ]
  },
  {
   "cell_type": "code",
   "execution_count": null,
   "metadata": {},
   "outputs": [],
   "source": [
    "# Separate words\n",
    "sentence = \"This is a sentence\"\n",
    "stuff = sentence.split()\n",
    "print(stuff,'\\n',stuff[0])\n",
    "\n",
    "print('\\n next is for loop \\n')\n",
    "\n",
    "for w in stuff:\n",
    "    print (w)\n",
    "\n",
    "splitsemicolon=\"This;is;a;colo\"\n",
    "stuff2=splitsemicolon.split(';')\n",
    "print('\\n', stuff2)"
   ]
  },
  {
   "cell_type": "code",
   "execution_count": null,
   "metadata": {},
   "outputs": [],
   "source": [
    "# find From and then date from mbox\n",
    "def ffad(file):\n",
    "    fhand=open(file)\n",
    "    for line in fhand:\n",
    "        line=line.strip()\n",
    "        words=line.split()\n",
    "        if len(words)<2:\n",
    "            continue\n",
    "        atsign=words[1].find('@')\n",
    "        if words[0] == 'From':\n",
    "            if atsign!=-1:\n",
    "                print('Day :',words[2])\n",
    "                continue\n",
    "        \n",
    "ffad('mbox.txt')"
   ]
  },
  {
   "cell_type": "code",
   "execution_count": null,
   "metadata": {},
   "outputs": [],
   "source": [
    "# Python Dictionaries\n",
    "# like lists but labeled. Keys are different [0],[1] -> ['course'],['tissue']\n",
    "purse=dict()\n",
    "purse['money']=12\n",
    "purse['candy']=3\n",
    "purse['tissues']=75\n",
    "print('1st Purse :', purse)\n",
    "purse['candy']=purse['candy']+2\n",
    "print('2nd Purse :', purse)\n",
    "jjj={'patricio' : 1, 'rivera' : 42, 'jan' :666}\n",
    "print('jjj :',jjj )"
   ]
  },
  {
   "cell_type": "code",
   "execution_count": null,
   "metadata": {},
   "outputs": [],
   "source": [
    "# count ele frequency in list and put result in dictionary\n",
    "\n",
    "wordlist=['dog','cat','mouse','dog','monkey','dog','horse','cat','moror','dog','monkey']\n",
    "eledic={}\n",
    "no_overlap_list=list()\n",
    "count=0\n",
    "for temp_word in wordlist:\n",
    "    no_overlap_list.append(temp_word)\n",
    "    overlap_check=no_overlap_list.count(temp_word)\n",
    "    if overlap_check !=1:\n",
    "        continue\n",
    "    temp_count=wordlist.count(temp_word)\n",
    "    eledic.update({temp_word : temp_count})\n",
    "    count+=1\n",
    "    print('Es gibt' , temp_count, temp_word )\n",
    "print('eledic :',eledic)"
   ]
  },
  {
   "cell_type": "code",
   "execution_count": null,
   "metadata": {},
   "outputs": [],
   "source": [
    "# nicer way\n",
    "counts={}\n",
    "wordlist=['dog','cat','mouse','dog','monkey','dog','horse','cat','moror','dog','monkey']\n",
    "for animal in wordlist:\n",
    "    if animal not in counts:\n",
    "        counts[animal]=1\n",
    "    else :\n",
    "        counts[animal]= counts[animal]+1\n",
    "print(counts)"
   ]
  },
  {
   "cell_type": "code",
   "execution_count": null,
   "metadata": {},
   "outputs": [],
   "source": [
    "# even nicer wtf\n",
    "counts={}\n",
    "wordlist=['dog','cat','mouse','dog','monkey','dog','horse','cat','moror','dog','monkey']\n",
    "for animale in wordlist:\n",
    "    counts[animale]=counts.get(animale,0)+1\n",
    "print(counts)  "
   ]
  },
  {
   "cell_type": "code",
   "execution_count": null,
   "metadata": {},
   "outputs": [],
   "source": [
    "# Counting pattern in doc\n",
    "counts=dict()\n",
    "fhand=open('words.txt')\n",
    "fulldoc=fhand.read()\n",
    "words=fulldoc.split()\n",
    "for word in words:\n",
    "    counts[word]=counts.get(word,0)+1\n",
    "print('counts :',counts)\n",
    "sortedwords={k: v for k, v in sorted(counts.items(), key=lambda item: item[1])}\n",
    "print('\\n sorted_words :', sortedwords)\n",
    "understandingsort=sorted(counts.items(), key=lambda item:item[1])\n",
    "print('\\n understanding the sort :', understandingsort)\n"
   ]
  },
  {
   "cell_type": "code",
   "execution_count": null,
   "metadata": {},
   "outputs": [],
   "source": [
    "# tuples have () instead of [], pretty much they are lists\n",
    "# difference: they cannot be modified\n",
    "\n",
    "# read lines from file, make dict of words, split, count each word,\n",
    "fhand = open ('romeo.txt')\n",
    "counts={}\n",
    "for line in fhand:\n",
    "    words=line.split()\n",
    "    for word in words:\n",
    "        counts[word]=counts.get(word,0)+1\n",
    "#make list, loop through k,v, make tupple (v,k), list of tupples, sort\n",
    "\n",
    "#1st way\n",
    "wortdict={k: v for k,v in sorted(counts.items(), key=lambda item:item[1])}\n",
    "\n",
    "tmp=list()\n",
    "for k,v in wortdict.items():\n",
    "    newt=(v,k)\n",
    "    tmp.append(newt)\n",
    "sorttmp=sorted(tmp)\n",
    "\n",
    "#2rd way\n",
    "#sortir=sorted(counts.items(), key=lambda item:item[1])\n",
    "sortor=sorted([ (v,k) for k,v in counts.items()],reverse=True)\n",
    "\n",
    "print ('\\n sorted? dict :',wortdict)\n",
    "print ('\\n flipped tmp : ',tmp)\n",
    "print ('\\n sorted tmp :',sorttmp)\n",
    "#print ('\\n sortir list :',sortir)\n",
    "print ('\\n sortor list :',sortor )\n",
    "\n",
    "\n"
   ]
  },
  {
   "cell_type": "code",
   "execution_count": null,
   "metadata": {},
   "outputs": [],
   "source": [
    "# Regular expressions\n",
    "import re\n",
    "x='My dog is 1 meter and 20 seconds tall, and it is 1 little bitch 666'\n",
    "x2='From: using the: character'\n",
    "x3='From patricio.rivera@ucole.olo.com Sat Jan 32 2030 $50.00 is dalar'\n",
    "\n",
    "y1= re.findall('[0-9]',x)\n",
    "y2= re.findall('[0-9]+',x)\n",
    "y3= re.findall('[MAeIOU]+',x) # some letters\n",
    "y4= re.findall('^F.+?:',x2) #? not greedy\n",
    "y5= re.findall('^F.+:',x2) # greedy\n",
    "y6= re.findall('\\S+@\\S+',x3) # \\S: non-blanc char , +: 1 or more of \\S, with some @ inbetween\n",
    "y7= re.findall('^From (\\S+@\\S+)',x3) # ^:start with 'From ' , (): that's what we want\n",
    "y8= re.findall('^From \\S+@(\\S+)',x3) # find host ||or @([^ ]*) : [^ ] is non-blanc char, * multiple times\n",
    "hand=open('mbox.txt')\n",
    "numlist=list()\n",
    "for line in hand:\n",
    "    line=line.strip()\n",
    "    y9= re.findall('^X-DSPAM-Confidence: ([0-9.]+)',line)\n",
    "    if len(y9) !=1: continue\n",
    "    num=float(y9[0])\n",
    "    numlist.append(num)\n",
    "\n",
    "y10= re.findall('\\$[0-9.]+',x3) # \\$ to find dollar, . takes into account .00\n",
    "\n",
    "print('y1 :', y1)\n",
    "print('y2 :', y2)\n",
    "print('y3 :', y3)\n",
    "print('y4 :', y4)\n",
    "print('y5 :', y5)\n",
    "print('y6 :', y6)\n",
    "print('y7 :', y7)\n",
    "print('y8 :', y8)\n",
    "print('Maximum :', max(numlist))\n",
    "print('y10 :', y10)\n"
   ]
  },
  {
   "cell_type": "code",
   "execution_count": null,
   "metadata": {},
   "outputs": [],
   "source": [
    "# Web Services\n",
    "# Create web browser\n",
    "\n",
    "import socket\n",
    "\n",
    "mysock = socket.socket(socket.AF_INET, socket.SOCK_STREAM) \n",
    "mysock.connect(('data.pr4e.org',80)) #connect to data.pr4e.org, port:80\n",
    "cmd = 'GET /romeo.txt HTTP/1.0\\r\\nHost: data.pr4e.org\\r\\n\\r\\n'.encode() #what is HTTP1? || encode:prepares data to go across the internet\n",
    "mysock.send(cmd) #send\n",
    "\n",
    "while True:\n",
    "    data = mysock.recv(512) # receive 512 chars each time\n",
    "    if (len(data)<1):  # 0 chars means end of string, connection is closed\n",
    "        break\n",
    "    print(data.decode()) # we have to decode the data (whatever that means)\n",
    "mysock.close()"
   ]
  },
  {
   "cell_type": "code",
   "execution_count": null,
   "metadata": {},
   "outputs": [],
   "source": [
    "# so much better\n",
    "import urllib.request, urllib.parse, urllib.error\n",
    "\n",
    "fhand=urllib.request.urlopen('http://data.pr4e.org/romeo.txt')\n",
    "for line in fhand:\n",
    "    print(line.decode().strip())"
   ]
  },
  {
   "cell_type": "code",
   "execution_count": null,
   "metadata": {},
   "outputs": [],
   "source": [
    "counts=dict()\n",
    "words=line.decode().split()\n",
    "for word in words:\n",
    "    counts[word]=counts.get(word,0)+1\n",
    "print(counts)"
   ]
  },
  {
   "cell_type": "code",
   "execution_count": null,
   "metadata": {},
   "outputs": [],
   "source": [
    "# Read Web Page\n",
    "import urllib.request, urllib.parse, urllib.error\n",
    "\n",
    "fhand=urllib.request.urlopen('https://www.investopedia.com/terms/m/mortgage-company.asp')\n",
    "for line in fhand:\n",
    "    print(line.decode().strip())"
   ]
  },
  {
   "cell_type": "code",
   "execution_count": null,
   "metadata": {},
   "outputs": [],
   "source": [
    "# Web Scraping\n",
    "import urllib.request, urllib.parse, urllib.error\n",
    "from bs4 import BeautifulSoup\n",
    "\n",
    "url = input('Enter - ')\n",
    "html=urllib.request.urlopen(url).read()\n",
    "soup = BeautifulSoup(html, 'html.parser')\n",
    "tags=soup('a')\n",
    "for tag in tags:\n",
    "    print(tag.get('href',None))\n",
    "# Enter : http://www.dr-chuck.com/page1.htm\n",
    "# Result: http://www.dr-chuck.com/page2.htm"
   ]
  },
  {
   "cell_type": "code",
   "execution_count": null,
   "metadata": {},
   "outputs": [],
   "source": [
    "# AGAIN (Remove possible errors: for certificates that are not in pythons official list)\n",
    "import urllib.request, urllib.parse, urllib.error\n",
    "from bs4 import BeautifulSoup\n",
    "import ssl\n",
    "\n",
    "#ignore ssl certificate errors\n",
    "ctx=ssl.create_default_context()\n",
    "ctx.check_hostname=False\n",
    "ctx.verify_mode=ssl.CERT_NONE\n",
    "\n",
    "url=input('Enter - ')\n",
    "html=urllib.request.urlopen(url, context=ctx).read()\n",
    "soup=BeautifulSoup(html,'html.parser')\n",
    "\n",
    "#retrieve anchor tags\n",
    "tags=soup('a')\n",
    "for tag in tags:\n",
    "    print(tag.get('href',None))"
   ]
  },
  {
   "cell_type": "code",
   "execution_count": null,
   "metadata": {},
   "outputs": [],
   "source": [
    "# Web Services\n",
    "# XML\n",
    "import xml.etree.ElementTree as ET\n",
    "\n",
    "data = '''\n",
    "<person>\n",
    "  <name>Patricio</name>\n",
    "  <phone type=\"intl\">\n",
    "    +1 734 303 4456\n",
    "  </phone>\n",
    "  <email hide=\"yes\" />\n",
    "</person>'''\n",
    "\n",
    "tree = ET.fromstring(data)\n",
    "print('Name:', tree.find('name').text)\n",
    "print('Attr:', tree.find('email').get('hide'))\n"
   ]
  },
  {
   "cell_type": "code",
   "execution_count": null,
   "metadata": {},
   "outputs": [],
   "source": [
    "import xml.etree.ElementTree as ET\n",
    "\n",
    "input = '''\n",
    "<stuff>\n",
    "  <users>\n",
    "    <user x=\"2\">\n",
    "      <id>001</id>\n",
    "      <name>Butch</name>\n",
    "    </user>\n",
    "    <user x=\"7\">\n",
    "      <id>009</id>\n",
    "      <name>Brent</name>\n",
    "    </user>\n",
    "  </users>\n",
    "</stuff>'''\n",
    "\n",
    "stuff = ET.fromstring(input)\n",
    "lst = stuff.findall('users/user')\n",
    "print('User count:', len(lst))\n",
    "\n",
    "for item in lst:\n",
    "    print('Name', item.find('name').text)\n",
    "    print('Id', item.find('id').text)\n",
    "    print('Attribute', item.get('x'))\n"
   ]
  },
  {
   "cell_type": "code",
   "execution_count": null,
   "metadata": {},
   "outputs": [],
   "source": [
    "# Python objects\n"
   ]
  },
  {
   "cell_type": "code",
   "execution_count": null,
   "metadata": {},
   "outputs": [],
   "source": []
  }
 ],
 "metadata": {
  "kernelspec": {
   "display_name": "Python 3",
   "language": "python",
   "name": "python3"
  },
  "language_info": {
   "codemirror_mode": {
    "name": "ipython",
    "version": 3
   },
   "file_extension": ".py",
   "mimetype": "text/x-python",
   "name": "python",
   "nbconvert_exporter": "python",
   "pygments_lexer": "ipython3",
   "version": "3.7.4"
  }
 },
 "nbformat": 4,
 "nbformat_minor": 2
}
