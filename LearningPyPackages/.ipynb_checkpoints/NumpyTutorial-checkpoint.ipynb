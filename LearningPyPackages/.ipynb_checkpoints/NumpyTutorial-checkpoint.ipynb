{
 "cells": [
  {
   "cell_type": "code",
   "execution_count": 31,
   "metadata": {},
   "outputs": [
    {
     "name": "stdout",
     "output_type": "stream",
     "text": [
      "a : [1 2 3]\n",
      "b : [[9. 8. 7.]\n",
      " [6. 5. 4.]]\n",
      "a.ndim  : 1 | a.shape : (3,)   | a.dtype : int64   | a.itemsize : 8 | a.size : 3 \n",
      "b.ndim  : 2 | b.shape : (2, 3) | b.dtype : float64 | b.itemsize : 8 | b.size : 6 \n",
      "c.ndim  : 2 | c.shape : (3, 3) | c.dtype : int16   | c.itemsize : 2 | c.size : 9\n"
     ]
    }
   ],
   "source": [
    "import numpy as np\n",
    "a=np.array([1,2,3])\n",
    "b=np.array([[9.0,8.0,7.0],[6.0,5.0,4.0]])\n",
    "c=np.array([[9,8,7],[6,5,4],[3,2,1]],dtype='int16')\n",
    "\n",
    "print('a :', a)\n",
    "print('b :', b)\n",
    "print('a.ndim  :', a.ndim, '| a.shape :', a.shape,'  | a.dtype :', a.dtype, \n",
    "          '  | a.itemsize :', a.itemsize,'| a.size :', a.size,\n",
    "      '\\nb.ndim  :', b.ndim, '| b.shape :', b.shape, '| b.dtype :', b.dtype,\n",
    "          '| b.itemsize :', b.itemsize, '| b.size :', b.size, \n",
    "      '\\nc.ndim  :', c.ndim, '| c.shape :', c.shape, '| c.dtype :', c.dtype,\n",
    "          '  | c.itemsize :', c.itemsize, '| c.size :', c.size)\n"
   ]
  },
  {
   "cell_type": "code",
   "execution_count": 47,
   "metadata": {
    "scrolled": true
   },
   "outputs": [
    {
     "name": "stdout",
     "output_type": "stream",
     "text": [
      "a:  [[ 1  2  3  4  5  6  7]\n",
      " [ 8  9 10 11 12 13 14]]\n",
      "a(2,3) : 10\n",
      "first row :  [1 2 3 4 5 6 7]\n",
      "third column : [ 3 10]\n",
      "2 4 6 : [2 4 6] \n",
      "fancier way : [2 4 6]\n"
     ]
    }
   ],
   "source": [
    "a = np.array([[1,2,3,4,5,6,7],[8,9,10,11,12,13,14]])\n",
    "print('a: ',a )\n",
    "#get specific element [r,c]\n",
    "print('a(2,3) :', a[1,2]) # don;t forget it is +1!!!\n",
    "# get row\n",
    "print('first row : ', a[0,:])\n",
    "# get column\n",
    "print('third column :', a[:,2])\n",
    "# get part of row, with step size:2 [2 4 6]\n",
    "print('2 4 6 :', a[0,1:6:2],'\\nfancier way :', a[0,1:-1:2])"
   ]
  },
  {
   "cell_type": "code",
   "execution_count": 52,
   "metadata": {},
   "outputs": [
    {
     "name": "stdout",
     "output_type": "stream",
     "text": [
      "[[[ 1  2  9 10]\n",
      "  [ 3  4 11 12]]\n",
      "\n",
      " [[ 5  6 13 14]\n",
      "  [ 7  8 15 16]]]\n",
      "pick 3 : 3\n",
      "pick 7 15:  [ 7 15] fancy : [ 7 15]\n",
      "boom\n"
     ]
    }
   ],
   "source": [
    "# 3d array\n",
    "b = np.array([[[1,2,9,10],[3,4,11,12]],[[5,6,13,14],[7,8,15,16]]])\n",
    "print(b)\n",
    "#get element (work outside in)\n",
    "print('pick 3 :', b[0,1,0])\n",
    "print('pick 7 15: ', b[1,1,0:3:2],'fancy :',b[1,1,0:-1:2])\n",
    "print('boom')\n"
   ]
  },
  {
   "cell_type": "code",
   "execution_count": 74,
   "metadata": {},
   "outputs": [
    {
     "name": "stdout",
     "output_type": "stream",
     "text": [
      "1x5 : [0 0 0 0 0]\n",
      "2x5 : [[0. 0. 0. 0. 0.]\n",
      " [0. 0. 0. 0. 0.]]\n",
      "full : [[99 99]\n",
      " [99 99]]\n",
      "fulllike : [[4 4 4 4 4 4 4]\n",
      " [4 4 4 4 4 4 4]]\n",
      "a_random : [[[0.75129804 0.45650577 0.96428996]\n",
      "  [0.86822789 0.92790585 0.62582127]]\n",
      "\n",
      " [[0.93705716 0.94423996 0.69278678]\n",
      "  [0.09410625 0.71018185 0.01945862]]\n",
      "\n",
      " [[0.91681002 0.44563638 0.99150725]\n",
      "  [0.05659891 0.04721302 0.80834591]]\n",
      "\n",
      " [[0.9568433  0.52631778 0.15003662]\n",
      "  [0.05879142 0.74766448 0.99566945]]]\n",
      "b_random : [[5 3 5 6]\n",
      " [5 6 5 4]\n",
      " [4 7 5 6]]\n",
      "b_repeat : [[5 3 5 6]\n",
      " [5 3 5 6]\n",
      " [5 3 5 6]\n",
      " [5 6 5 4]\n",
      " [5 6 5 4]\n",
      " [5 6 5 4]\n",
      " [4 7 5 6]\n",
      " [4 7 5 6]\n",
      " [4 7 5 6]]\n"
     ]
    }
   ],
   "source": [
    "#initialize different types of arrays\n",
    "zerosonebyfive=np.zeros(5, dtype='int32')\n",
    "zerostwobyfive=np.zeros((2,5)) #could do ones\n",
    "full=np.full((2,2),99)\n",
    "fulllike=np.full_like(a,4)\n",
    "a_random=np.random.rand(4,2,3) #random_sample to use shape\n",
    "b_random=np.random.randint(3,8,size=(3,4)) # random number 3-8\n",
    "#np.identity(3)\n",
    "b_repeat=np.repeat(b_random,3,axis=0)\n",
    "\n",
    "\n",
    "print('1x5 :',zerosonebyfive)\n",
    "print('2x5 :',zerostwobyfive)\n",
    "print('full :',full)\n",
    "print('fulllike :',fulllike)\n",
    "print('a_random :',a_random)\n",
    "print('b_random :',b_random)\n",
    "print('b_repeat :',b_repeat)"
   ]
  },
  {
   "cell_type": "code",
   "execution_count": 83,
   "metadata": {},
   "outputs": [
    {
     "name": "stdout",
     "output_type": "stream",
     "text": [
      "c :\n",
      " [[1. 1. 1. 1. 1.]\n",
      " [1. 0. 0. 0. 1.]\n",
      " [1. 0. 9. 0. 1.]\n",
      " [1. 0. 0. 0. 1.]\n",
      " [1. 1. 1. 1. 1.]]\n"
     ]
    }
   ],
   "source": [
    "# make array 5x5 ones around, zeros mid, 9 center\n",
    "c=np.ones((5,5))\n",
    "c[1:-1:1,1:-1:1]=0\n",
    "c[2,2]=9\n",
    "print('c :\\n',c)"
   ]
  },
  {
   "cell_type": "code",
   "execution_count": 90,
   "metadata": {},
   "outputs": [
    {
     "name": "stdout",
     "output_type": "stream",
     "text": [
      "a [100   2   3]\n",
      "b [100   2   3]\n",
      "OMG\n",
      "a [100   2   3]\n",
      "c [200   2   3]\n"
     ]
    }
   ],
   "source": [
    "a=np.array([1,2,3])\n",
    "b=a\n",
    "b[0]=100\n",
    "print('a',a)\n",
    "print('b',b)\n",
    "print('OMG')\n",
    "c=a.copy()\n",
    "c[0]=200\n",
    "print('a',a)\n",
    "print('c',c)\n"
   ]
  },
  {
   "cell_type": "code",
   "execution_count": 101,
   "metadata": {},
   "outputs": [],
   "source": [
    "# more about multiplications etc. on https://docs.scipy.org/doc/numpy/reference/routines.math.html"
   ]
  },
  {
   "cell_type": "code",
   "execution_count": 119,
   "metadata": {},
   "outputs": [
    {
     "name": "stdout",
     "output_type": "stream",
     "text": [
      "a\n",
      " [[1 3 6]\n",
      " [4 5 7]]\n",
      "b\n",
      " [[2 3]\n",
      " [9 2]\n",
      " [1 8]]\n",
      "a*b\n",
      " [[35 57]\n",
      " [60 78]]\n",
      "det\n",
      " -689.9999999999998\n",
      "det of [1,2],[3,4]\n",
      " -2.0000000000000004\n"
     ]
    }
   ],
   "source": [
    "a = np.array([[1,3,6],[4,5,7]])\n",
    "b = np.array([[2,3],[9,2],[1,8]])\n",
    "print('a\\n',a)\n",
    "print('b\\n',b)\n",
    "ab=np.matmul(a,b)\n",
    "print('a*b\\n', ab)\n",
    "print('det\\n', np.linalg.det(ab))\n",
    "print('det of [1,2],[3,4]\\n', np.linalg.det(np.array([[1,2],[3,4]])))"
   ]
  },
  {
   "cell_type": "code",
   "execution_count": 128,
   "metadata": {},
   "outputs": [
    {
     "name": "stdout",
     "output_type": "stream",
     "text": [
      "stats :\n",
      " [[1 4 5]\n",
      " [2 5 3]] \n",
      "min : [1 4 3] \n",
      "max : 5\n"
     ]
    },
    {
     "data": {
      "text/plain": [
       "array([10, 10])"
      ]
     },
     "execution_count": 128,
     "metadata": {},
     "output_type": "execute_result"
    }
   ],
   "source": [
    "# some statistics\n",
    "stats=np.array([[1,4,5],[2,5,3]])\n",
    "print('stats :\\n',stats, '\\nmin :',np.min(stats,axis=0),'\\nmax :',np.max(stats))\n",
    "np.sum(stats,axis=1)"
   ]
  },
  {
   "cell_type": "code",
   "execution_count": 130,
   "metadata": {},
   "outputs": [
    {
     "name": "stdout",
     "output_type": "stream",
     "text": [
      "before\n",
      " [[1 2 3 4]\n",
      " [5 6 7 8]]\n",
      "after\n",
      " [[1]\n",
      " [2]\n",
      " [3]\n",
      " [4]\n",
      " [5]\n",
      " [6]\n",
      " [7]\n",
      " [8]]\n",
      "4x3\n",
      " [[1 2]\n",
      " [3 4]\n",
      " [5 6]\n",
      " [7 8]]\n"
     ]
    }
   ],
   "source": [
    "# reorganizing\n",
    "before=np.array([[1,2,3,4],[5,6,7,8]])\n",
    "print('before\\n',before)\n",
    "after=before.reshape((8,1))\n",
    "print('after\\n',after)\n",
    "fourbytwo=after.reshape((4,2))\n",
    "print('4x3\\n',fourbytwo)"
   ]
  },
  {
   "cell_type": "code",
   "execution_count": 131,
   "metadata": {},
   "outputs": [
    {
     "data": {
      "text/plain": [
       "array([[1, 2, 3, 4],\n",
       "       [5, 6, 7, 8],\n",
       "       [1, 2, 3, 4],\n",
       "       [5, 6, 7, 8]])"
      ]
     },
     "execution_count": 131,
     "metadata": {},
     "output_type": "execute_result"
    }
   ],
   "source": [
    "# vertical stacking\n",
    "v1=np.array([1,2,3,4])\n",
    "v2=np.array([5,6,7,8])\n",
    "np.stack([v1,v2,v1,v2])"
   ]
  },
  {
   "cell_type": "code",
   "execution_count": 135,
   "metadata": {},
   "outputs": [
    {
     "data": {
      "text/plain": [
       "array([[0., 0., 0., 0., 1., 1.],\n",
       "       [0., 0., 0., 0., 1., 1.]])"
      ]
     },
     "execution_count": 135,
     "metadata": {},
     "output_type": "execute_result"
    }
   ],
   "source": [
    "# horizontal stack\n",
    "h1=np.zeros((2,4))\n",
    "h2=np.ones((2,2))\n",
    "np.hstack((h1,h2))"
   ]
  },
  {
   "cell_type": "code",
   "execution_count": 145,
   "metadata": {},
   "outputs": [
    {
     "name": "stdout",
     "output_type": "stream",
     "text": [
      "[[  1  13  21  11 196  75   4   3  34   6   7   8   0   1   2   3   4   5]\n",
      " [  3  42  12  33 766  75   4  55   6   4   3   4   5   6   7   0  11  12]\n",
      " [  1  22  33  11 999  11   2   1  78   0   1   2   9   8   7   1  76  88]]\n"
     ]
    }
   ],
   "source": [
    "d=np.genfromtxt('numtext.txt',delimiter=',')\n",
    "d=d.astype('int32')\n",
    "\n",
    "print(d)"
   ]
  },
  {
   "cell_type": "code",
   "execution_count": 149,
   "metadata": {},
   "outputs": [
    {
     "data": {
      "text/plain": [
       "array([[False, False, False, False,  True,  True, False, False, False,\n",
       "        False, False, False, False, False, False, False, False, False],\n",
       "       [False, False, False, False,  True,  True, False,  True, False,\n",
       "        False, False, False, False, False, False, False, False, False],\n",
       "       [False, False, False, False,  True, False, False, False,  True,\n",
       "        False, False, False, False, False, False, False,  True,  True]])"
      ]
     },
     "execution_count": 149,
     "metadata": {},
     "output_type": "execute_result"
    }
   ],
   "source": [
    "# Boolean Masking and Advanced Indexing\n",
    "d > 50"
   ]
  },
  {
   "cell_type": "code",
   "execution_count": 150,
   "metadata": {},
   "outputs": [
    {
     "data": {
      "text/plain": [
       "array([196,  75, 766,  75,  55, 999,  78,  76,  88], dtype=int32)"
      ]
     },
     "execution_count": 150,
     "metadata": {},
     "output_type": "execute_result"
    }
   ],
   "source": [
    "d[d > 50]"
   ]
  },
  {
   "cell_type": "code",
   "execution_count": 152,
   "metadata": {},
   "outputs": [
    {
     "data": {
      "text/plain": [
       "array([2, 3, 9])"
      ]
     },
     "execution_count": 152,
     "metadata": {},
     "output_type": "execute_result"
    }
   ],
   "source": [
    "a=np.array([1,2,3,4,5,6,7,8,9])\n",
    "a[[1,2,8]]"
   ]
  },
  {
   "cell_type": "code",
   "execution_count": 158,
   "metadata": {},
   "outputs": [
    {
     "data": {
      "text/plain": [
       "array([False, False, False, False,  True, False, False, False, False,\n",
       "       False, False, False, False, False, False, False, False, False])"
      ]
     },
     "execution_count": 158,
     "metadata": {},
     "output_type": "execute_result"
    }
   ],
   "source": [
    "np.all(d>50, axis=0) # or any"
   ]
  },
  {
   "cell_type": "code",
   "execution_count": 160,
   "metadata": {},
   "outputs": [
    {
     "data": {
      "text/plain": [
       "array([[False, False, False, False, False,  True, False, False, False,\n",
       "        False, False, False, False, False, False, False, False, False],\n",
       "       [False, False, False, False, False,  True, False,  True, False,\n",
       "        False, False, False, False, False, False, False, False, False],\n",
       "       [False, False, False, False, False, False, False, False,  True,\n",
       "        False, False, False, False, False, False, False,  True,  True]])"
      ]
     },
     "execution_count": 160,
     "metadata": {},
     "output_type": "execute_result"
    }
   ],
   "source": [
    "((d>50) & (d<100)) # (~((d>50)&(d<100))) #~NOT!"
   ]
  },
  {
   "cell_type": "code",
   "execution_count": 181,
   "metadata": {},
   "outputs": [
    {
     "name": "stdout",
     "output_type": "stream",
     "text": [
      "[[2 3 5 5 2]\n",
      " [1 2 5 5 1]\n",
      " [2 4 7 6 1]\n",
      " [6 5 2 4 5]\n",
      " [1 1 6 1 1]\n",
      " [3 5 6 4 5]]\n",
      "emicro [[2 4]\n",
      " [6 5]]\n",
      "crz [3 5 6 5]\n",
      "fdp [[5 2]\n",
      " [1 1]\n",
      " [4 5]]\n"
     ]
    }
   ],
   "source": [
    "e=np.random.randint(1,8,size=(6,5))\n",
    "print(e)\n",
    "f=e[2:4,0:2]\n",
    "print('emicro',f)\n",
    "crz=e[[0,1,2,3],[1,2,3,4]]\n",
    "print('crz',crz)\n",
    "fdp=e[[0,4,5],3:]\n",
    "print('fdp',fdp)"
   ]
  },
  {
   "cell_type": "markdown",
   "metadata": {},
   "source": []
  }
 ],
 "metadata": {
  "kernelspec": {
   "display_name": "Python 3",
   "language": "python",
   "name": "python3"
  },
  "language_info": {
   "codemirror_mode": {
    "name": "ipython",
    "version": 3
   },
   "file_extension": ".py",
   "mimetype": "text/x-python",
   "name": "python",
   "nbconvert_exporter": "python",
   "pygments_lexer": "ipython3",
   "version": "3.7.4"
  }
 },
 "nbformat": 4,
 "nbformat_minor": 2
}
