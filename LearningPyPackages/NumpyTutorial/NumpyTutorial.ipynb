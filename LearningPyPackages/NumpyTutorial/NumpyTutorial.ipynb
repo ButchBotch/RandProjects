{
 "cells": [
  {
   "cell_type": "code",
   "execution_count": null,
   "metadata": {},
   "outputs": [],
   "source": [
    "import numpy as np\n",
    "a=np.array([1,2,3])\n",
    "b=np.array([[9.0,8.0,7.0],[6.0,5.0,4.0]])\n",
    "c=np.array([[9,8,7],[6,5,4],[3,2,1]],dtype='int16')\n",
    "\n",
    "print('a :', a)\n",
    "print('b :', b)\n",
    "print('a.ndim  :', a.ndim, '| a.shape :', a.shape,'  | a.dtype :', a.dtype, \n",
    "          '  | a.itemsize :', a.itemsize,'| a.size :', a.size,\n",
    "      '\\nb.ndim  :', b.ndim, '| b.shape :', b.shape, '| b.dtype :', b.dtype,\n",
    "          '| b.itemsize :', b.itemsize, '| b.size :', b.size, \n",
    "      '\\nc.ndim  :', c.ndim, '| c.shape :', c.shape, '| c.dtype :', c.dtype,\n",
    "          '  | c.itemsize :', c.itemsize, '| c.size :', c.size)\n"
   ]
  },
  {
   "cell_type": "code",
   "execution_count": null,
   "metadata": {
    "scrolled": true
   },
   "outputs": [],
   "source": [
    "a = np.array([[1,2,3,4,5,6,7],[8,9,10,11,12,13,14]])\n",
    "print('a: ',a )\n",
    "#get specific element [r,c]\n",
    "print('a(2,3) :', a[1,2]) # don;t forget it is +1!!!\n",
    "# get row\n",
    "print('first row : ', a[0,:])\n",
    "# get column\n",
    "print('third column :', a[:,2])\n",
    "# get part of row, with step size:2 [2 4 6]\n",
    "print('2 4 6 :', a[0,1:6:2],'\\nfancier way :', a[0,1:-1:2])"
   ]
  },
  {
   "cell_type": "code",
   "execution_count": null,
   "metadata": {},
   "outputs": [],
   "source": [
    "# 3d array\n",
    "b = np.array([[[1,2,9,10],[3,4,11,12]],[[5,6,13,14],[7,8,15,16]]])\n",
    "print(b)\n",
    "#get element (work outside in)\n",
    "print('pick 3 :', b[0,1,0])\n",
    "print('pick 7 15: ', b[1,1,0:3:2],'fancy :',b[1,1,0:-1:2])\n",
    "print('boom')\n"
   ]
  },
  {
   "cell_type": "code",
   "execution_count": null,
   "metadata": {},
   "outputs": [],
   "source": [
    "#initialize different types of arrays\n",
    "zerosonebyfive=np.zeros(5, dtype='int32')\n",
    "zerostwobyfive=np.zeros((2,5)) #could do ones\n",
    "full=np.full((2,2),99)\n",
    "fulllike=np.full_like(a,4)\n",
    "a_random=np.random.rand(4,2,3) #random_sample to use shape\n",
    "b_random=np.random.randint(3,8,size=(3,4)) # random number 3-8\n",
    "#np.identity(3)\n",
    "b_repeat=np.repeat(b_random,3,axis=0)\n",
    "\n",
    "\n",
    "print('1x5 :',zerosonebyfive)\n",
    "print('2x5 :',zerostwobyfive)\n",
    "print('full :',full)\n",
    "print('fulllike :',fulllike)\n",
    "print('a_random :',a_random)\n",
    "print('b_random :',b_random)\n",
    "print('b_repeat :',b_repeat)"
   ]
  },
  {
   "cell_type": "code",
   "execution_count": null,
   "metadata": {},
   "outputs": [],
   "source": [
    "# make array 5x5 ones around, zeros mid, 9 center\n",
    "c=np.ones((5,5))\n",
    "c[1:-1:1,1:-1:1]=0\n",
    "c[2,2]=9\n",
    "print('c :\\n',c)"
   ]
  },
  {
   "cell_type": "code",
   "execution_count": null,
   "metadata": {},
   "outputs": [],
   "source": [
    "a=np.array([1,2,3])\n",
    "b=a\n",
    "b[0]=100\n",
    "print('a',a)\n",
    "print('b',b)\n",
    "print('OMG')\n",
    "c=a.copy()\n",
    "c[0]=200\n",
    "print('a',a)\n",
    "print('c',c)\n"
   ]
  },
  {
   "cell_type": "code",
   "execution_count": null,
   "metadata": {},
   "outputs": [],
   "source": [
    "# more about multiplications etc. on https://docs.scipy.org/doc/numpy/reference/routines.math.html"
   ]
  },
  {
   "cell_type": "code",
   "execution_count": null,
   "metadata": {},
   "outputs": [],
   "source": [
    "a = np.array([[1,3,6],[4,5,7]])\n",
    "b = np.array([[2,3],[9,2],[1,8]])\n",
    "print('a\\n',a)\n",
    "print('b\\n',b)\n",
    "ab=np.matmul(a,b)\n",
    "print('a*b\\n', ab)\n",
    "print('det\\n', np.linalg.det(ab))\n",
    "print('det of [1,2],[3,4]\\n', np.linalg.det(np.array([[1,2],[3,4]])))"
   ]
  },
  {
   "cell_type": "code",
   "execution_count": null,
   "metadata": {},
   "outputs": [],
   "source": [
    "# some statistics\n",
    "stats=np.array([[1,4,5],[2,5,3]])\n",
    "print('stats :\\n',stats, '\\nmin :',np.min(stats,axis=0),'\\nmax :',np.max(stats))\n",
    "np.sum(stats,axis=1)"
   ]
  },
  {
   "cell_type": "code",
   "execution_count": null,
   "metadata": {},
   "outputs": [],
   "source": [
    "# reorganizing\n",
    "before=np.array([[1,2,3,4],[5,6,7,8]])\n",
    "print('before\\n',before)\n",
    "after=before.reshape((8,1))\n",
    "print('after\\n',after)\n",
    "fourbytwo=after.reshape((4,2))\n",
    "print('4x3\\n',fourbytwo)"
   ]
  },
  {
   "cell_type": "code",
   "execution_count": null,
   "metadata": {},
   "outputs": [],
   "source": [
    "# vertical stacking\n",
    "v1=np.array([1,2,3,4])\n",
    "v2=np.array([5,6,7,8])\n",
    "np.stack([v1,v2,v1,v2])"
   ]
  },
  {
   "cell_type": "code",
   "execution_count": null,
   "metadata": {},
   "outputs": [],
   "source": [
    "# horizontal stack\n",
    "h1=np.zeros((2,4))\n",
    "h2=np.ones((2,2))\n",
    "np.hstack((h1,h2))"
   ]
  },
  {
   "cell_type": "code",
   "execution_count": null,
   "metadata": {},
   "outputs": [],
   "source": [
    "d=np.genfromtxt('numtext.txt',delimiter=',')\n",
    "d=d.astype('int32')\n",
    "\n",
    "print(d)"
   ]
  },
  {
   "cell_type": "code",
   "execution_count": null,
   "metadata": {},
   "outputs": [],
   "source": [
    "# Boolean Masking and Advanced Indexing\n",
    "d > 50"
   ]
  },
  {
   "cell_type": "code",
   "execution_count": null,
   "metadata": {},
   "outputs": [],
   "source": [
    "d[d > 50]"
   ]
  },
  {
   "cell_type": "code",
   "execution_count": null,
   "metadata": {},
   "outputs": [],
   "source": [
    "a=np.array([1,2,3,4,5,6,7,8,9])\n",
    "a[[1,2,8]]"
   ]
  },
  {
   "cell_type": "code",
   "execution_count": null,
   "metadata": {},
   "outputs": [],
   "source": [
    "np.all(d>50, axis=0) # or any"
   ]
  },
  {
   "cell_type": "code",
   "execution_count": null,
   "metadata": {},
   "outputs": [],
   "source": [
    "((d>50) & (d<100)) # (~((d>50)&(d<100))) #~NOT!"
   ]
  },
  {
   "cell_type": "code",
   "execution_count": null,
   "metadata": {},
   "outputs": [],
   "source": [
    "e=np.random.randint(1,8,size=(6,5))\n",
    "print(e)\n",
    "f=e[2:4,0:2]\n",
    "print('emicro',f)\n",
    "crz=e[[0,1,2,3],[1,2,3,4]]\n",
    "print('crz',crz)\n",
    "fdp=e[[0,4,5],3:]\n",
    "print('fdp',fdp)"
   ]
  },
  {
   "cell_type": "markdown",
   "metadata": {},
   "source": []
  }
 ],
 "metadata": {
  "kernelspec": {
   "display_name": "Python 3",
   "language": "python",
   "name": "python3"
  },
  "language_info": {
   "codemirror_mode": {
    "name": "ipython",
    "version": 3
   },
   "file_extension": ".py",
   "mimetype": "text/x-python",
   "name": "python",
   "nbconvert_exporter": "python",
   "pygments_lexer": "ipython3",
   "version": "3.7.4"
  }
 },
 "nbformat": 4,
 "nbformat_minor": 2
}
