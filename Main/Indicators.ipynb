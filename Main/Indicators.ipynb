{
 "cells": [
  {
   "cell_type": "code",
   "execution_count": 7,
   "metadata": {},
   "outputs": [],
   "source": [
    "import numpy as np\n",
    "import pandas as pd\n",
    "\n",
    "\"\"\"\n",
    "# Exponential Moving Average\n",
    "# https://school.stockcharts.com/doku.php?id=technical_indicators:moving_averages\n",
    "\n",
    "Params: \n",
    "    data: pandas DataFrame\n",
    "    period: smoothing period\n",
    "    column: the name of the column with values for calculating EMA in the 'data' DataFrame\n",
    "    \n",
    "Returns:\n",
    "    copy of 'data' DataFrame with 'ema[period]' column added\n",
    "\"\"\"\n",
    "\n"
   ]
  }
 ],
 "metadata": {
  "kernelspec": {
   "display_name": "Python 3",
   "language": "python",
   "name": "python3"
  },
  "language_info": {
   "codemirror_mode": {
    "name": "ipython",
    "version": 3
   },
   "file_extension": ".py",
   "mimetype": "text/x-python",
   "name": "python",
   "nbconvert_exporter": "python",
   "pygments_lexer": "ipython3",
   "version": "3.7.4"
  }
 },
 "nbformat": 4,
 "nbformat_minor": 2
}
