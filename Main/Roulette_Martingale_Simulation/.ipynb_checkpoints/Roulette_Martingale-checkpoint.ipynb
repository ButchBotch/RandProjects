{
 "cells": [
  {
   "cell_type": "code",
   "execution_count": null,
   "metadata": {
    "scrolled": true
   },
   "outputs": [],
   "source": [
    "import random as rn\n",
    "import numpy as np\n",
    "import seaborn as sns\n",
    "import pandas as pd\n",
    "import matplotlib.pyplot as plt\n",
    "from matplotlib import rc, rcParams"
   ]
  },
  {
   "cell_type": "markdown",
   "metadata": {},
   "source": [
    "## Setting Parameters"
   ]
  },
  {
   "cell_type": "code",
   "execution_count": null,
   "metadata": {},
   "outputs": [],
   "source": [
    "winp = 18.0/37\n",
    "rn.seed(2)\n",
    "\n",
    "initial_budget = 1000 # Initial budget\n",
    "min_bet = 2.5 # Minimum bet  \n",
    "max_bet = 77.5 # Max bet   # 2.5, 5, 10, 20, 40 = 77.5..\n",
    "spins = 100000 # Number of spins\n",
    "\n",
    "bet_after = 2 # Bet after how many consecutive Reds\n",
    "\n",
    "bet = [] # Bet\n",
    "total_budget = [] # Current budget"
   ]
  },
  {
   "cell_type": "markdown",
   "metadata": {},
   "source": [
    "## Spin"
   ]
  },
  {
   "cell_type": "code",
   "execution_count": null,
   "metadata": {},
   "outputs": [],
   "source": [
    "recordList = [] #result list\n",
    "\n",
    "for i in range(spins):        \n",
    "    numnum = rn.randint(0, 36)\n",
    "    if numnum == 0:\n",
    "        recordList.append('Green')\n",
    "    elif (1<= numnum <= 18): \n",
    "        recordList.append(\"Red\") # Nobody cares about the actual color of each number\n",
    "    else:\n",
    "        recordList.append(\"Black\")"
   ]
  },
  {
   "cell_type": "markdown",
   "metadata": {},
   "source": [
    "## Sequence & bet function"
   ]
  },
  {
   "cell_type": "code",
   "execution_count": null,
   "metadata": {},
   "outputs": [],
   "source": [
    "def minirecordlistfun(recordList):\n",
    "    minirecordlist=[]\n",
    "    for j in range(len(recordList)):    \n",
    "        if j>=3:\n",
    "            a0=recordList[j-3]\n",
    "            a=recordList[j-2]\n",
    "            b=recordList[j-1]\n",
    "            c=recordList[j]\n",
    "            minirecordlist_temp=[a0,a,b,c]\n",
    "            minirecordlist.append(minirecordlist_temp)\n",
    "    return minirecordlist"
   ]
  },
  {
   "cell_type": "code",
   "execution_count": null,
   "metadata": {
    "scrolled": true
   },
   "outputs": [],
   "source": [
    "# WinLose function\n",
    "def Win_or_Lose(initial_budget, max_bet, spins, min_bet):\n",
    "    \n",
    "    money = initial_budget\n",
    "    output =[]# np.zeros(Nbets)\n",
    "    bet_size=min_bet\n",
    "    \n",
    "    for i in range(spins):\n",
    "        if i<4:\n",
    "            pass\n",
    "        else:\n",
    "            minirecordlist=minirecordlistfun(recordList)\n",
    "            if minirecordlist[i-4]==['Black','Black','Black','Black']:\n",
    "                if money <= 0:\n",
    "                    pass\n",
    "                elif recordList[i]=='Red':\n",
    "                    money += bet_size\n",
    "                    bet_size = min_bet\n",
    "                    output.append(money)\n",
    "                else:\n",
    "                    money -= bet_size\n",
    "                    bet_size = np.min((2 * bet_size, max_bet))\n",
    "                    if bet_size > money:\n",
    "                        bet_size = money\n",
    "                    output.append(money)\n",
    "\n",
    "    return output"
   ]
  },
  {
   "cell_type": "markdown",
   "metadata": {},
   "source": [
    "## Simulation!"
   ]
  },
  {
   "cell_type": "code",
   "execution_count": null,
   "metadata": {},
   "outputs": [],
   "source": [
    "a=Win_or_Lose(initial_budget, max_bet, spins, min_bet)\n",
    "plt.plot(a)\n",
    "# Result takes forever, and is dissapointing. No breakthrough whatsover :/"
   ]
  }
 ],
 "metadata": {
  "kernelspec": {
   "display_name": "Python 3",
   "language": "python",
   "name": "python3"
  },
  "language_info": {
   "codemirror_mode": {
    "name": "ipython",
    "version": 3
   },
   "file_extension": ".py",
   "mimetype": "text/x-python",
   "name": "python",
   "nbconvert_exporter": "python",
   "pygments_lexer": "ipython3",
   "version": "3.7.4"
  }
 },
 "nbformat": 4,
 "nbformat_minor": 2
}
