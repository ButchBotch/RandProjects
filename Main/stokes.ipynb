{
 "cells": [
  {
   "cell_type": "code",
   "execution_count": 1,
   "metadata": {},
   "outputs": [],
   "source": [
    "import numpy as np\n",
    "import yfinance as yf\n",
    "import pandas as pd\n",
    "import matplotlib.pyplot as plt\n",
    "import datetime as dt\n",
    "import seaborn as sns\n",
    "%matplotlib inline\n",
    "\n",
    "from pandas_datareader import data as pdr\n",
    "yf.pdr_override() # <== that's all it takes :-)\n",
    "\n",
    "from pandas.plotting import register_matplotlib_converters\n",
    "register_matplotlib_converters()\n",
    "\n",
    "pd.set_option('display.max_rows', None)"
   ]
  },
  {
   "cell_type": "markdown",
   "metadata": {},
   "source": [
    "## Load Data and Create Stock Table"
   ]
  },
  {
   "cell_type": "code",
   "execution_count": 2,
   "metadata": {},
   "outputs": [
    {
     "name": "stdout",
     "output_type": "stream",
     "text": [
      "[*********************100%***********************]  1 of 1 completed\n",
      "[*********************100%***********************]  1 of 1 completed\n",
      "[*********************100%***********************]  1 of 1 completed\n"
     ]
    }
   ],
   "source": [
    "# Load and put stock data to df w pandas_datareader\n",
    "stock1 = pdr.get_data_yahoo(\"^DJI\", start=\"1980-01-01\", end=\"1996-02-28\")\n",
    "stock2 = pdr.get_data_yahoo(\"^DJI\", start=\"2011-01-01\", end=\"2015-02-28\")\n",
    "stock = pd.concat([stock1,stock2])\n",
    "stock['Date']=stock.index\n",
    "stock_forever=pdr.get_data_yahoo(\"^DJI\", start=\"1980-01-01\", end=\"2020-02-28\")\n",
    "stock_forever['Date']=stock_forever.index"
   ]
  },
  {
   "cell_type": "code",
   "execution_count": 3,
   "metadata": {
    "scrolled": true
   },
   "outputs": [],
   "source": [
    "# create yr,month,day cols\n",
    "stock['year'] = pd.DatetimeIndex(stock['Date']).year\n",
    "stock['month'] = pd.DatetimeIndex(stock['Date']).month\n",
    "stock['day'] = pd.DatetimeIndex(stock['Date']).day\n",
    "stock['CPI_Multiplier_temp'] = 0.0\n",
    "\n",
    "# reduce stock df\n",
    "stockr=stock[['Close','year','month','CPI_Multiplier_temp','Date']]"
   ]
  },
  {
   "cell_type": "markdown",
   "metadata": {},
   "source": [
    "## Adjust for Inflation"
   ]
  },
  {
   "cell_type": "code",
   "execution_count": 4,
   "metadata": {
    "scrolled": true
   },
   "outputs": [],
   "source": [
    "# load inflation data\n",
    "inflation = pd.read_csv('inflation_data.csv')\n",
    "\n",
    "inflation.rename(columns={'CPIAUCNS':'CPI','DATE':'date'},inplace=True)\n",
    "# create index multiplier\n",
    "inflation['CPI_Multiplier'] = inflation['CPI'].iloc[-1] / inflation['CPI']\n",
    "\n",
    "# create yr,month,day cols\n",
    "inflation['year'] = pd.DatetimeIndex(inflation['date']).year\n",
    "inflation['month'] = pd.DatetimeIndex(inflation['date']).month\n",
    "inflation['day'] = 1\n",
    "inflation.index=inflation['date']\n"
   ]
  },
  {
   "cell_type": "code",
   "execution_count": 5,
   "metadata": {},
   "outputs": [
    {
     "name": "stderr",
     "output_type": "stream",
     "text": [
      "/usr/local/anaconda3/lib/python3.7/site-packages/ipykernel_launcher.py:5: SettingWithCopyWarning: \n",
      "A value is trying to be set on a copy of a slice from a DataFrame\n",
      "\n",
      "See the caveats in the documentation: http://pandas.pydata.org/pandas-docs/stable/user_guide/indexing.html#returning-a-view-versus-a-copy\n",
      "  \"\"\"\n",
      "/usr/local/anaconda3/lib/python3.7/site-packages/IPython/core/interactiveshell.py:3326: SettingWithCopyWarning: \n",
      "A value is trying to be set on a copy of a slice from a DataFrame\n",
      "\n",
      "See the caveats in the documentation: http://pandas.pydata.org/pandas-docs/stable/user_guide/indexing.html#returning-a-view-versus-a-copy\n",
      "  exec(code_obj, self.user_global_ns, self.user_ns)\n"
     ]
    }
   ],
   "source": [
    "# Create Matrix With Inflation Adjusted Prices\n",
    "count=0\n",
    "for idx_stock, row_stock in stockr.iterrows():\n",
    "    temp=inflation.loc[(inflation['year'] == int(row_stock['year'])) & (inflation['month'] ==  int(row_stock['month']))]\n",
    "    stockr['CPI_Multiplier_temp'][count]=temp['CPI_Multiplier'][0]\n",
    "    count+=1"
   ]
  },
  {
   "cell_type": "code",
   "execution_count": 6,
   "metadata": {},
   "outputs": [
    {
     "name": "stderr",
     "output_type": "stream",
     "text": [
      "/usr/local/anaconda3/lib/python3.7/site-packages/ipykernel_launcher.py:1: SettingWithCopyWarning: \n",
      "A value is trying to be set on a copy of a slice from a DataFrame.\n",
      "Try using .loc[row_indexer,col_indexer] = value instead\n",
      "\n",
      "See the caveats in the documentation: http://pandas.pydata.org/pandas-docs/stable/user_guide/indexing.html#returning-a-view-versus-a-copy\n",
      "  \"\"\"Entry point for launching an IPython kernel.\n",
      "/usr/local/anaconda3/lib/python3.7/site-packages/pandas/core/frame.py:4223: SettingWithCopyWarning: \n",
      "A value is trying to be set on a copy of a slice from a DataFrame\n",
      "\n",
      "See the caveats in the documentation: http://pandas.pydata.org/pandas-docs/stable/user_guide/indexing.html#returning-a-view-versus-a-copy\n",
      "  return super().rename(**kwargs)\n"
     ]
    },
    {
     "data": {
      "text/html": [
       "<div>\n",
       "<style scoped>\n",
       "    .dataframe tbody tr th:only-of-type {\n",
       "        vertical-align: middle;\n",
       "    }\n",
       "\n",
       "    .dataframe tbody tr th {\n",
       "        vertical-align: top;\n",
       "    }\n",
       "\n",
       "    .dataframe thead th {\n",
       "        text-align: right;\n",
       "    }\n",
       "</style>\n",
       "<table border=\"1\" class=\"dataframe\">\n",
       "  <thead>\n",
       "    <tr style=\"text-align: right;\">\n",
       "      <th></th>\n",
       "      <th>Close</th>\n",
       "      <th>CPI_Multiplier</th>\n",
       "      <th>Inflation_Adjusted_Close</th>\n",
       "      <th>Date</th>\n",
       "    </tr>\n",
       "    <tr>\n",
       "      <th>Date</th>\n",
       "      <th></th>\n",
       "      <th></th>\n",
       "      <th></th>\n",
       "      <th></th>\n",
       "    </tr>\n",
       "  </thead>\n",
       "  <tbody>\n",
       "    <tr>\n",
       "      <td>2015-02-23</td>\n",
       "      <td>18116.839844</td>\n",
       "      <td>1.102061</td>\n",
       "      <td>19965.865565</td>\n",
       "      <td>2015-02-23</td>\n",
       "    </tr>\n",
       "    <tr>\n",
       "      <td>2015-02-24</td>\n",
       "      <td>18209.189453</td>\n",
       "      <td>1.102061</td>\n",
       "      <td>20067.640483</td>\n",
       "      <td>2015-02-24</td>\n",
       "    </tr>\n",
       "    <tr>\n",
       "      <td>2015-02-25</td>\n",
       "      <td>18224.570312</td>\n",
       "      <td>1.102061</td>\n",
       "      <td>20084.591130</td>\n",
       "      <td>2015-02-25</td>\n",
       "    </tr>\n",
       "    <tr>\n",
       "      <td>2015-02-26</td>\n",
       "      <td>18214.419922</td>\n",
       "      <td>1.102061</td>\n",
       "      <td>20073.404779</td>\n",
       "      <td>2015-02-26</td>\n",
       "    </tr>\n",
       "    <tr>\n",
       "      <td>2015-02-27</td>\n",
       "      <td>18132.699219</td>\n",
       "      <td>1.102061</td>\n",
       "      <td>19983.343566</td>\n",
       "      <td>2015-02-27</td>\n",
       "    </tr>\n",
       "  </tbody>\n",
       "</table>\n",
       "</div>"
      ],
      "text/plain": [
       "                   Close  CPI_Multiplier  Inflation_Adjusted_Close       Date\n",
       "Date                                                                         \n",
       "2015-02-23  18116.839844        1.102061              19965.865565 2015-02-23\n",
       "2015-02-24  18209.189453        1.102061              20067.640483 2015-02-24\n",
       "2015-02-25  18224.570312        1.102061              20084.591130 2015-02-25\n",
       "2015-02-26  18214.419922        1.102061              20073.404779 2015-02-26\n",
       "2015-02-27  18132.699219        1.102061              19983.343566 2015-02-27"
      ]
     },
     "execution_count": 6,
     "metadata": {},
     "output_type": "execute_result"
    }
   ],
   "source": [
    "stockr['Inflation_Adjusted_Close']=stockr['Close']*stockr['CPI_Multiplier_temp']\n",
    "\n",
    "stock_fin=stockr[['Close','CPI_Multiplier_temp','Inflation_Adjusted_Close','Date']]\n",
    "stock_fin.rename(columns={'CPI_Multiplier_temp':'CPI_Multiplier'},inplace=True)\n",
    "stock_fin.tail()"
   ]
  },
  {
   "cell_type": "markdown",
   "metadata": {},
   "source": [
    "## Visualization"
   ]
  },
  {
   "cell_type": "code",
   "execution_count": null,
   "metadata": {},
   "outputs": [],
   "source": []
  },
  {
   "cell_type": "markdown",
   "metadata": {},
   "source": [
    "## Fit ^DJI Data "
   ]
  },
  {
   "cell_type": "code",
   "execution_count": 7,
   "metadata": {},
   "outputs": [],
   "source": [
    "from sklearn.linear_model import LinearRegression\n",
    "lm=LinearRegression()"
   ]
  },
  {
   "cell_type": "code",
   "execution_count": 8,
   "metadata": {},
   "outputs": [
    {
     "name": "stderr",
     "output_type": "stream",
     "text": [
      "/usr/local/anaconda3/lib/python3.7/site-packages/ipykernel_launcher.py:5: SettingWithCopyWarning: \n",
      "A value is trying to be set on a copy of a slice from a DataFrame.\n",
      "Try using .loc[row_indexer,col_indexer] = value instead\n",
      "\n",
      "See the caveats in the documentation: http://pandas.pydata.org/pandas-docs/stable/user_guide/indexing.html#returning-a-view-versus-a-copy\n",
      "  \"\"\"\n"
     ]
    }
   ],
   "source": [
    "# Convert date to ordinal (devide by 200 to somewhat normalize)\n",
    "#data_df['Date'] = pd.to_datetime(data_df['Date'])\n",
    "#data_df['Date']=data_df['Date'].map(dt.datetime.toordinal)\n",
    "\n",
    "stock_fin['Date_ord']=stock_fin['Date'].map(dt.datetime.toordinal)/200"
   ]
  },
  {
   "cell_type": "code",
   "execution_count": 9,
   "metadata": {},
   "outputs": [],
   "source": [
    "X=stock_fin[['Date_ord']]\n",
    "Y=stock_fin['Inflation_Adjusted_Close']\n",
    "f=lm.fit(X,Y)"
   ]
  },
  {
   "cell_type": "code",
   "execution_count": 19,
   "metadata": {},
   "outputs": [
    {
     "name": "stdout",
     "output_type": "stream",
     "text": [
      "[*********************100%***********************]  1 of 1 completed\n",
      "       2\n",
      "2.248 x - 1.617e+04 x + 2.907e+07\n"
     ]
    },
    {
     "data": {
      "image/png": "[encoded data removed]",
      "text/plain": [
       "<Figure size 432x288 with 1 Axes>"
      ]
     },
     "metadata": {
      "needs_background": "light"
     },
     "output_type": "display_data"
    }
   ],
   "source": [
    "# Date to Predict 2020\n",
    "pred_date = pdr.get_data_yahoo(\"^DJI\", start=\"1980-01-01\", end=\"2020-02-29\")\n",
    "pred_date['Date'] = pd.to_datetime(pred_date.index)\n",
    "pred_date['Date_ord']=pred_date['Date'].map(dt.datetime.toordinal)/200\n",
    "pred_date=pred_date[['Date_ord']]\n",
    "\n",
    "stock_forever['Date_ord']=stock_forever['Date'].map(dt.datetime.toordinal)/200\n",
    "\n",
    "Yhat=lm.predict(pred_date)\n",
    "fittedf = pd.DataFrame({'prediction': Yhat,'Date_ord':pred_date['Date_ord']})\n",
    "\n",
    "def PlotPolly(model, independent_variable, dependent_variabble, Name):\n",
    "    x_new = fittedf[['Date_ord']]\n",
    "    y_new = model(x_new)\n",
    "    x_forever = stock_forever['Date_ord']\n",
    "    y_forever = stock_forever['Close']\n",
    "    \n",
    "    plt.plot(independent_variable, dependent_variabble, '.', x_new, y_new, '-')\n",
    "    plt.plot(x_forever, y_forever, '.')\n",
    "    plt.title('Polynomial Fit with Matplotlib for Value ~ Date')\n",
    "    ax = plt.gca()\n",
    "    plt.xlabel(Name)\n",
    "    plt.ylabel('Value')\n",
    "    plt.grid(True)\n",
    "    plt.show()\n",
    "    plt.close()\n",
    "    \n",
    "x = stock_fin['Date_ord']\n",
    "y = stock_fin['Inflation_Adjusted_Close']\n",
    "\n",
    "# Here we use a polynomial of the 4th order \n",
    "f = np.polyfit(x, y, 2)\n",
    "p = np.poly1d(f)\n",
    "print(p)\n",
    "\n",
    "PlotPolly(p, x, y, 'Date_ord')"
   ]
  },
  {
   "cell_type": "code",
   "execution_count": 15,
   "metadata": {},
   "outputs": [
    {
     "data": {
      "text/plain": [
       "DatetimeIndex(['1985-01-29', '1985-01-30', '1985-01-31', '1985-02-01',\n",
       "               '1985-02-04', '1985-02-05', '1985-02-06', '1985-02-07',\n",
       "               '1985-02-08', '1985-02-11',\n",
       "               ...\n",
       "               '2020-02-13', '2020-02-14', '2020-02-18', '2020-02-19',\n",
       "               '2020-02-20', '2020-02-21', '2020-02-24', '2020-02-25',\n",
       "               '2020-02-26', '2020-02-27'],\n",
       "              dtype='datetime64[ns]', name='Date', length=8842, freq=None)"
      ]
     },
     "execution_count": 15,
     "metadata": {},
     "output_type": "execute_result"
    }
   ],
   "source": [
    "stock_forever.index"
   ]
  },
  {
   "cell_type": "code",
   "execution_count": null,
   "metadata": {},
   "outputs": [],
   "source": []
  }
 ],
 "metadata": {
  "kernelspec": {
   "display_name": "Python 3",
   "language": "python",
   "name": "python3"
  },
  "language_info": {
   "codemirror_mode": {
    "name": "ipython",
    "version": 3
   },
   "file_extension": ".py",
   "mimetype": "text/x-python",
   "name": "python",
   "nbconvert_exporter": "python",
   "pygments_lexer": "ipython3",
   "version": "3.7.4"
  }
 },
 "nbformat": 4,
 "nbformat_minor": 2
}
