{
 "cells": [
  {
   "cell_type": "code",
   "execution_count": 43,
   "metadata": {},
   "outputs": [],
   "source": [
    "import numpy as np\n",
    "import yfinance as yf\n",
    "import pandas as pd\n",
    "import matplotlib.pyplot as plt\n",
    "import datetime\n",
    "import seaborn as sns\n",
    "%matplotlib inline\n",
    "\n",
    "from pandas_datareader import data as pdr\n",
    "yf.pdr_override() # <== that's all it takes :-)\n",
    "\n",
    "from pandas.plotting import register_matplotlib_converters\n",
    "register_matplotlib_converters()\n",
    "\n",
    "pd.set_option('display.max_rows', None)"
   ]
  },
  {
   "cell_type": "markdown",
   "metadata": {},
   "source": [
    "## Load Data and Create Stock Table"
   ]
  },
  {
   "cell_type": "code",
   "execution_count": 13,
   "metadata": {},
   "outputs": [
    {
     "name": "stdout",
     "output_type": "stream",
     "text": [
      "[*********************100%***********************]  1 of 1 completed\n"
     ]
    }
   ],
   "source": [
    "# Load and put stock data to df w pandas_datareader\n",
    "stock = pdr.get_data_yahoo(\"^DJI\", start=\"1980-01-01\", end=\"2020-02-29\")\n",
    "stock['Date']=stock.index\n"
   ]
  },
  {
   "cell_type": "code",
   "execution_count": 14,
   "metadata": {
    "scrolled": true
   },
   "outputs": [],
   "source": [
    "stock['Date'] = pd.to_datetime(stock.index)\n",
    "\n",
    "# create yr,month,day cols\n",
    "stock['year'] = pd.DatetimeIndex(stock['Date']).year\n",
    "stock['month'] = pd.DatetimeIndex(stock['Date']).month\n",
    "stock['day'] = pd.DatetimeIndex(stock['Date']).day\n",
    "stock['CPI_Multiplier_temp'] = 0.0\n",
    "\n",
    "# reduce stock df\n",
    "stockr=stock[['Close','year','month','CPI_Multiplier_temp','Date']]"
   ]
  },
  {
   "cell_type": "markdown",
   "metadata": {},
   "source": [
    "## Adjust for Inflation"
   ]
  },
  {
   "cell_type": "code",
   "execution_count": 15,
   "metadata": {
    "scrolled": true
   },
   "outputs": [],
   "source": [
    "# load inflation data\n",
    "inflation = pd.read_csv('inflation_data.csv')\n",
    "\n",
    "inflation.rename(columns={'CPIAUCNS':'CPI','DATE':'date'},inplace=True)\n",
    "# create index multiplier\n",
    "inflation['CPI_Multiplier'] = inflation['CPI'].iloc[-1] / inflation['CPI']\n",
    "\n",
    "# create yr,month,day cols\n",
    "inflation['year'] = pd.DatetimeIndex(inflation['date']).year\n",
    "inflation['month'] = pd.DatetimeIndex(inflation['date']).month\n",
    "inflation['day'] = 1\n",
    "inflation.index=inflation['date']\n"
   ]
  },
  {
   "cell_type": "code",
   "execution_count": 16,
   "metadata": {},
   "outputs": [
    {
     "name": "stderr",
     "output_type": "stream",
     "text": [
      "/usr/local/anaconda3/lib/python3.7/site-packages/ipykernel_launcher.py:5: SettingWithCopyWarning: \n",
      "A value is trying to be set on a copy of a slice from a DataFrame\n",
      "\n",
      "See the caveats in the documentation: http://pandas.pydata.org/pandas-docs/stable/user_guide/indexing.html#returning-a-view-versus-a-copy\n",
      "  \"\"\"\n"
     ]
    }
   ],
   "source": [
    "# Create Matrix With Inflation Adjusted Prices\n",
    "count=0\n",
    "for idx_stock, row_stock in stockr.iterrows():\n",
    "    temp=inflation.loc[(inflation['year'] == int(row_stock['year'])) & (inflation['month'] ==  int(row_stock['month']))]\n",
    "    stockr['CPI_Multiplier_temp'][count]=temp['CPI_Multiplier'][0]\n",
    "    count+=1"
   ]
  },
  {
   "cell_type": "code",
   "execution_count": 17,
   "metadata": {},
   "outputs": [
    {
     "name": "stderr",
     "output_type": "stream",
     "text": [
      "/usr/local/anaconda3/lib/python3.7/site-packages/ipykernel_launcher.py:1: SettingWithCopyWarning: \n",
      "A value is trying to be set on a copy of a slice from a DataFrame.\n",
      "Try using .loc[row_indexer,col_indexer] = value instead\n",
      "\n",
      "See the caveats in the documentation: http://pandas.pydata.org/pandas-docs/stable/user_guide/indexing.html#returning-a-view-versus-a-copy\n",
      "  \"\"\"Entry point for launching an IPython kernel.\n"
     ]
    },
    {
     "data": {
      "text/html": [
       "<div>\n",
       "<style scoped>\n",
       "    .dataframe tbody tr th:only-of-type {\n",
       "        vertical-align: middle;\n",
       "    }\n",
       "\n",
       "    .dataframe tbody tr th {\n",
       "        vertical-align: top;\n",
       "    }\n",
       "\n",
       "    .dataframe thead th {\n",
       "        text-align: right;\n",
       "    }\n",
       "</style>\n",
       "<table border=\"1\" class=\"dataframe\">\n",
       "  <thead>\n",
       "    <tr style=\"text-align: right;\">\n",
       "      <th></th>\n",
       "      <th>Close</th>\n",
       "      <th>CPI_Multiplier</th>\n",
       "      <th>Inflation_Adjusted_Close</th>\n",
       "      <th>Date</th>\n",
       "    </tr>\n",
       "    <tr>\n",
       "      <th>Date</th>\n",
       "      <th></th>\n",
       "      <th></th>\n",
       "      <th></th>\n",
       "      <th></th>\n",
       "    </tr>\n",
       "  </thead>\n",
       "  <tbody>\n",
       "    <tr>\n",
       "      <td>1985-01-29</td>\n",
       "      <td>1292.619995</td>\n",
       "      <td>2.451924</td>\n",
       "      <td>3169.406209</td>\n",
       "      <td>1985-01-29</td>\n",
       "    </tr>\n",
       "    <tr>\n",
       "      <td>1985-01-30</td>\n",
       "      <td>1287.880005</td>\n",
       "      <td>2.451924</td>\n",
       "      <td>3157.784113</td>\n",
       "      <td>1985-01-30</td>\n",
       "    </tr>\n",
       "    <tr>\n",
       "      <td>1985-01-31</td>\n",
       "      <td>1286.770020</td>\n",
       "      <td>2.451924</td>\n",
       "      <td>3155.062513</td>\n",
       "      <td>1985-01-31</td>\n",
       "    </tr>\n",
       "    <tr>\n",
       "      <td>1985-02-01</td>\n",
       "      <td>1277.719971</td>\n",
       "      <td>2.440358</td>\n",
       "      <td>3118.094779</td>\n",
       "      <td>1985-02-01</td>\n",
       "    </tr>\n",
       "    <tr>\n",
       "      <td>1985-02-04</td>\n",
       "      <td>1290.079956</td>\n",
       "      <td>2.440358</td>\n",
       "      <td>3148.257574</td>\n",
       "      <td>1985-02-04</td>\n",
       "    </tr>\n",
       "  </tbody>\n",
       "</table>\n",
       "</div>"
      ],
      "text/plain": [
       "                  Close  CPI_Multiplier  Inflation_Adjusted_Close       Date\n",
       "Date                                                                        \n",
       "1985-01-29  1292.619995        2.451924               3169.406209 1985-01-29\n",
       "1985-01-30  1287.880005        2.451924               3157.784113 1985-01-30\n",
       "1985-01-31  1286.770020        2.451924               3155.062513 1985-01-31\n",
       "1985-02-01  1277.719971        2.440358               3118.094779 1985-02-01\n",
       "1985-02-04  1290.079956        2.440358               3148.257574 1985-02-04"
      ]
     },
     "execution_count": 17,
     "metadata": {},
     "output_type": "execute_result"
    }
   ],
   "source": [
    "stockr['Inflation_Adjusted_Close']=stockr['Close']*stockr['CPI_Multiplier_temp']\n",
    "\n",
    "stock_fin=stockr[['Close','CPI_Multiplier_temp','Inflation_Adjusted_Close','Date']]\n",
    "stock_fin.rename(columns={'CPI_Multiplier_temp':'CPI_Multiplier'},inplace=True)\n",
    "stock_fin.head()"
   ]
  },
  {
   "cell_type": "code",
   "execution_count": 18,
   "metadata": {
    "scrolled": false
   },
   "outputs": [],
   "source": [
    "#fig1 = plt.figure(figsize=(15,10),dpi=400)\n",
    "#plt.xlabel('Date')\n",
    "#plt.ylabel('Price ($)')\n",
    "#plt.title('DowJones Value')\n",
    "#plt.plot(stock_fin[['Close']])\n",
    "#plt.grid(c='grey')\n",
    "#plt.xticks(rotation=45)\n"
   ]
  },
  {
   "cell_type": "markdown",
   "metadata": {},
   "source": [
    "## Visualization"
   ]
  },
  {
   "cell_type": "code",
   "execution_count": 19,
   "metadata": {},
   "outputs": [
    {
     "data": {
      "text/plain": [
       "<seaborn.axisgrid.FacetGrid at 0x1a2232b6d0>"
      ]
     },
     "execution_count": 19,
     "metadata": {},
     "output_type": "execute_result"
    },
    {
     "data": {
      "image/png": "[encoded data removed]",
      "text/plain": [
       "<Figure size 360x360 with 1 Axes>"
      ]
     },
     "metadata": {
      "needs_background": "light"
     },
     "output_type": "display_data"
    }
   ],
   "source": [
    "sns.relplot(x='Date',y='Inflation_Adjusted_Close',kind='line',data=stock_fin)"
   ]
  },
  {
   "cell_type": "code",
   "execution_count": 9,
   "metadata": {},
   "outputs": [
    {
     "data": {
      "text/plain": [
       "<seaborn.axisgrid.FacetGrid at 0x1a2365cfd0>"
      ]
     },
     "execution_count": 9,
     "metadata": {},
     "output_type": "execute_result"
    },
    {
     "data": {
      "image/png": "[encoded data removed]",
      "text/plain": [
       "<Figure size 360x360 with 1 Axes>"
      ]
     },
     "metadata": {
      "needs_background": "light"
     },
     "output_type": "display_data"
    }
   ],
   "source": [
    "sns.relplot(x='Date',y='Close',kind='line',data=stock_fin)"
   ]
  },
  {
   "cell_type": "markdown",
   "metadata": {},
   "source": [
    "## Fit ^DJI Data "
   ]
  },
  {
   "cell_type": "code",
   "execution_count": 24,
   "metadata": {},
   "outputs": [],
   "source": [
    "from sklearn.linear_model import LinearRegression\n",
    "lm=LinearRegression()"
   ]
  },
  {
   "cell_type": "code",
   "execution_count": 40,
   "metadata": {},
   "outputs": [
    {
     "name": "stdout",
     "output_type": "stream",
     "text": [
      "intercept: -5156.189658796007 \n",
      "    coeff: [1.73547898e-14]\n"
     ]
    }
   ],
   "source": [
    "X=stock_fin[['Date']]\n",
    "Y=stock_fin['Inflation_Adjusted_Close']\n",
    "f=lm.fit(X,Y)\n",
    "print('intercept:',lm.intercept_,'\\n    coeff:',lm.coef_)"
   ]
  },
  {
   "cell_type": "code",
   "execution_count": 46,
   "metadata": {},
   "outputs": [
    {
     "ename": "UFuncTypeError",
     "evalue": "ufunc 'add' cannot use operands with types dtype('<M8[ns]') and dtype('float64')",
     "output_type": "error",
     "traceback": [
      "\u001b[0;31m---------------------------------------------------------------------------\u001b[0m",
      "\u001b[0;31mUFuncTypeError\u001b[0m                            Traceback (most recent call last)",
      "\u001b[0;32m<ipython-input-46-89504b424c64>\u001b[0m in \u001b[0;36m<module>\u001b[0;34m\u001b[0m\n\u001b[1;32m      1\u001b[0m \u001b[0mb\u001b[0m\u001b[0;34m=\u001b[0m\u001b[0mlm\u001b[0m\u001b[0;34m.\u001b[0m\u001b[0mintercept_\u001b[0m\u001b[0;34m\u001b[0m\u001b[0;34m\u001b[0m\u001b[0m\n\u001b[1;32m      2\u001b[0m \u001b[0ma\u001b[0m\u001b[0;34m=\u001b[0m\u001b[0mlm\u001b[0m\u001b[0;34m.\u001b[0m\u001b[0mcoef_\u001b[0m\u001b[0;34m\u001b[0m\u001b[0;34m\u001b[0m\u001b[0m\n\u001b[0;32m----> 3\u001b[0;31m \u001b[0mnp\u001b[0m\u001b[0;34m.\u001b[0m\u001b[0mpolyfit\u001b[0m\u001b[0;34m(\u001b[0m\u001b[0mX\u001b[0m\u001b[0;34m,\u001b[0m\u001b[0mY\u001b[0m\u001b[0;34m,\u001b[0m\u001b[0;36m2\u001b[0m\u001b[0;34m)\u001b[0m\u001b[0;34m\u001b[0m\u001b[0;34m\u001b[0m\u001b[0m\n\u001b[0m",
      "\u001b[0;32m<__array_function__ internals>\u001b[0m in \u001b[0;36mpolyfit\u001b[0;34m(*args, **kwargs)\u001b[0m\n",
      "\u001b[0;32m/usr/local/anaconda3/lib/python3.7/site-packages/numpy/lib/polynomial.py\u001b[0m in \u001b[0;36mpolyfit\u001b[0;34m(x, y, deg, rcond, full, w, cov)\u001b[0m\n\u001b[1;32m    590\u001b[0m     \"\"\"\n\u001b[1;32m    591\u001b[0m     \u001b[0morder\u001b[0m \u001b[0;34m=\u001b[0m \u001b[0mint\u001b[0m\u001b[0;34m(\u001b[0m\u001b[0mdeg\u001b[0m\u001b[0;34m)\u001b[0m \u001b[0;34m+\u001b[0m \u001b[0;36m1\u001b[0m\u001b[0;34m\u001b[0m\u001b[0;34m\u001b[0m\u001b[0m\n\u001b[0;32m--> 592\u001b[0;31m     \u001b[0mx\u001b[0m \u001b[0;34m=\u001b[0m \u001b[0mNX\u001b[0m\u001b[0;34m.\u001b[0m\u001b[0masarray\u001b[0m\u001b[0;34m(\u001b[0m\u001b[0mx\u001b[0m\u001b[0;34m)\u001b[0m \u001b[0;34m+\u001b[0m \u001b[0;36m0.0\u001b[0m\u001b[0;34m\u001b[0m\u001b[0;34m\u001b[0m\u001b[0m\n\u001b[0m\u001b[1;32m    593\u001b[0m     \u001b[0my\u001b[0m \u001b[0;34m=\u001b[0m \u001b[0mNX\u001b[0m\u001b[0;34m.\u001b[0m\u001b[0masarray\u001b[0m\u001b[0;34m(\u001b[0m\u001b[0my\u001b[0m\u001b[0;34m)\u001b[0m \u001b[0;34m+\u001b[0m \u001b[0;36m0.0\u001b[0m\u001b[0;34m\u001b[0m\u001b[0;34m\u001b[0m\u001b[0m\n\u001b[1;32m    594\u001b[0m \u001b[0;34m\u001b[0m\u001b[0m\n",
      "\u001b[0;31mUFuncTypeError\u001b[0m: ufunc 'add' cannot use operands with types dtype('<M8[ns]') and dtype('float64')"
     ]
    }
   ],
   "source": [
    "b=lm.intercept_\n",
    "a=lm.coef_\n",
    "np.polyfit(X,Y,2)"
   ]
  },
  {
   "cell_type": "code",
   "execution_count": null,
   "metadata": {},
   "outputs": [],
   "source": []
  }
 ],
 "metadata": {
  "kernelspec": {
   "display_name": "Python 3",
   "language": "python",
   "name": "python3"
  },
  "language_info": {
   "codemirror_mode": {
    "name": "ipython",
    "version": 3
   },
   "file_extension": ".py",
   "mimetype": "text/x-python",
   "name": "python",
   "nbconvert_exporter": "python",
   "pygments_lexer": "ipython3",
   "version": "3.7.4"
  }
 },
 "nbformat": 4,
 "nbformat_minor": 2
}
