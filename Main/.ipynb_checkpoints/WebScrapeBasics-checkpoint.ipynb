{
 "cells": [
  {
   "cell_type": "markdown",
   "metadata": {},
   "source": [
    "## Scrape Table to pd.DataFrame"
   ]
  },
  {
   "cell_type": "code",
   "execution_count": 1,
   "metadata": {},
   "outputs": [
    {
     "data": {
      "text/html": [
       "<div>\n",
       "<style scoped>\n",
       "    .dataframe tbody tr th:only-of-type {\n",
       "        vertical-align: middle;\n",
       "    }\n",
       "\n",
       "    .dataframe tbody tr th {\n",
       "        vertical-align: top;\n",
       "    }\n",
       "\n",
       "    .dataframe thead th {\n",
       "        text-align: right;\n",
       "    }\n",
       "</style>\n",
       "<table border=\"1\" class=\"dataframe\">\n",
       "  <thead>\n",
       "    <tr style=\"text-align: right;\">\n",
       "      <th></th>\n",
       "      <th>Country,Other</th>\n",
       "      <th>TotalCases</th>\n",
       "      <th>NewCases</th>\n",
       "      <th>TotalDeaths</th>\n",
       "      <th>NewDeaths</th>\n",
       "      <th>TotalRecovered</th>\n",
       "      <th>ActiveCases</th>\n",
       "      <th>Serious,Critical</th>\n",
       "      <th>Tot Cases/1M pop</th>\n",
       "      <th>Deaths/1M pop</th>\n",
       "      <th>TotalTests</th>\n",
       "      <th>Tests/ 1M pop</th>\n",
       "    </tr>\n",
       "  </thead>\n",
       "  <tbody>\n",
       "    <tr>\n",
       "      <td>0</td>\n",
       "      <td>World</td>\n",
       "      <td>1134421</td>\n",
       "      <td>+17,778</td>\n",
       "      <td>60428.0</td>\n",
       "      <td>+1,270</td>\n",
       "      <td>236095.0</td>\n",
       "      <td>837898</td>\n",
       "      <td>39656.0</td>\n",
       "      <td>146.0</td>\n",
       "      <td>7.8</td>\n",
       "      <td>NaN</td>\n",
       "      <td>NaN</td>\n",
       "    </tr>\n",
       "    <tr>\n",
       "      <td>1</td>\n",
       "      <td>USA</td>\n",
       "      <td>277607</td>\n",
       "      <td>+446</td>\n",
       "      <td>7406.0</td>\n",
       "      <td>+14</td>\n",
       "      <td>12283.0</td>\n",
       "      <td>257918</td>\n",
       "      <td>5787.0</td>\n",
       "      <td>839.0</td>\n",
       "      <td>22.0</td>\n",
       "      <td>1356085.0</td>\n",
       "      <td>4097.0</td>\n",
       "    </tr>\n",
       "    <tr>\n",
       "      <td>2</td>\n",
       "      <td>Spain</td>\n",
       "      <td>124736</td>\n",
       "      <td>+5,537</td>\n",
       "      <td>11744.0</td>\n",
       "      <td>+546</td>\n",
       "      <td>34219.0</td>\n",
       "      <td>78773</td>\n",
       "      <td>6416.0</td>\n",
       "      <td>2668.0</td>\n",
       "      <td>251.0</td>\n",
       "      <td>355000.0</td>\n",
       "      <td>7593.0</td>\n",
       "    </tr>\n",
       "    <tr>\n",
       "      <td>3</td>\n",
       "      <td>Italy</td>\n",
       "      <td>119827</td>\n",
       "      <td>NaN</td>\n",
       "      <td>14681.0</td>\n",
       "      <td>NaN</td>\n",
       "      <td>19758.0</td>\n",
       "      <td>85388</td>\n",
       "      <td>4068.0</td>\n",
       "      <td>1982.0</td>\n",
       "      <td>243.0</td>\n",
       "      <td>619849.0</td>\n",
       "      <td>10252.0</td>\n",
       "    </tr>\n",
       "    <tr>\n",
       "      <td>4</td>\n",
       "      <td>Germany</td>\n",
       "      <td>91589</td>\n",
       "      <td>+430</td>\n",
       "      <td>1293.0</td>\n",
       "      <td>+18</td>\n",
       "      <td>24575.0</td>\n",
       "      <td>65721</td>\n",
       "      <td>3936.0</td>\n",
       "      <td>1093.0</td>\n",
       "      <td>15.0</td>\n",
       "      <td>918460.0</td>\n",
       "      <td>10962.0</td>\n",
       "    </tr>\n",
       "  </tbody>\n",
       "</table>\n",
       "</div>"
      ],
      "text/plain": [
       "  Country,Other  TotalCases NewCases  TotalDeaths NewDeaths  TotalRecovered  \\\n",
       "0         World     1134421  +17,778      60428.0    +1,270        236095.0   \n",
       "1           USA      277607     +446       7406.0       +14         12283.0   \n",
       "2         Spain      124736   +5,537      11744.0      +546         34219.0   \n",
       "3         Italy      119827      NaN      14681.0       NaN         19758.0   \n",
       "4       Germany       91589     +430       1293.0       +18         24575.0   \n",
       "\n",
       "   ActiveCases  Serious,Critical  Tot Cases/1M pop  Deaths/1M pop  TotalTests  \\\n",
       "0       837898           39656.0             146.0            7.8         NaN   \n",
       "1       257918            5787.0             839.0           22.0   1356085.0   \n",
       "2        78773            6416.0            2668.0          251.0    355000.0   \n",
       "3        85388            4068.0            1982.0          243.0    619849.0   \n",
       "4        65721            3936.0            1093.0           15.0    918460.0   \n",
       "\n",
       "   Tests/ 1M pop  \n",
       "0            NaN  \n",
       "1         4097.0  \n",
       "2         7593.0  \n",
       "3        10252.0  \n",
       "4        10962.0  "
      ]
     },
     "execution_count": 1,
     "metadata": {},
     "output_type": "execute_result"
    }
   ],
   "source": [
    "import pandas as pd\n",
    "import requests\n",
    "from bs4 import BeautifulSoup\n",
    "\n",
    "res = requests.get(\"https://www.worldometers.info/coronavirus/\")\n",
    "soup = BeautifulSoup(res.content,'lxml')\n",
    "table = soup.find_all('table')[0] \n",
    "df = pd.read_html(str(table))\n",
    "#print(df[0].to_json(orient='records'))\n",
    "pdf = df[0]\n",
    "pdf.head()"
   ]
  },
  {
   "cell_type": "markdown",
   "metadata": {},
   "source": [
    "## Scrape random data "
   ]
  },
  {
   "cell_type": "code",
   "execution_count": 2,
   "metadata": {
    "scrolled": true
   },
   "outputs": [
    {
     "name": "stdout",
     "output_type": "stream",
     "text": [
      "None\n",
      "/wiki/Wikipedia:Protection_policy#semi\n",
      "/wiki/File:En-Wiki2.ogg\n",
      "#mw-head\n",
      "#p-search\n"
     ]
    }
   ],
   "source": [
    "import urllib.request, urllib.parse, urllib.error\n",
    "from bs4 import BeautifulSoup\n",
    "import ssl\n",
    "\n",
    "#ignore ssl certificate errors\n",
    "ctx=ssl.create_default_context()\n",
    "ctx.check_hostname=False\n",
    "ctx.verify_mode=ssl.CERT_NONE\n",
    "\n",
    "#\n",
    "url='https://en.wikipedia.org/wiki/Wiki' # input('Enter - ')\n",
    "html=urllib.request.urlopen(url, context=ctx).read()\n",
    "soup=BeautifulSoup(html,'html.parser')\n",
    "\n",
    "#retrieve anchor tags\n",
    "tags=soup('a')\n",
    "for tag in tags[:5]:\n",
    "    print(tag.get('href',None))"
   ]
  },
  {
   "cell_type": "markdown",
   "metadata": {},
   "source": [
    "## BS adn RegEx"
   ]
  },
  {
   "cell_type": "code",
   "execution_count": 3,
   "metadata": {},
   "outputs": [],
   "source": [
    "import requests\n",
    "from bs4 import BeautifulSoup\n",
    "import re\n",
    "\n",
    "# omg they keep changing the way the table looks..\n",
    "website_url = requests.get('https://en.wikipedia.org/wiki/List_of_postal_codes_of_Canada:_M').text\n",
    "soup = BeautifulSoup(website_url,'html.parser')\n",
    "#print(soup.prettify())\n",
    "My_table = soup.find('table') # If code is nice, use pandas, else attempt regex\n",
    "\n",
    "\n",
    "headers=\"Postcode,Borough,Neighbourhood\"\n",
    "table1=\"\\n\"\n",
    "for tr in My_table.find_all('tr'):\n",
    "    for tds in tr.find_all('td'):\n",
    "            r1=re.findall(\"[(^)[\\]{}].+[()[\\]{}]\",tds.text) \n",
    "            r1plus=re.findall(\"[()[\\]{}(^)].+\",tds.text)\n",
    "            if len(r1)>=1:\n",
    "                r1f=str(r1[0][1:-1])\n",
    "                r1f=r1f.replace(\",\",\"/\")\n",
    "                r1plus=str(r1plus[0][1:-1])\n",
    "                r0=tds.text[4:-4]\n",
    "                r0f=r0[:-len(r1plus)]\n",
    "            else:\n",
    "                r1f=\"Not assigned\"\n",
    "                r0f=tds.text[4:-2]\n",
    "            row1=tds.text[1:4]+\",\"+r0f+','+r1f+'\\n'\n",
    "            table1=table1+row1[:]"
   ]
  },
  {
   "cell_type": "markdown",
   "metadata": {},
   "source": [
    "## Selenium Webdriver"
   ]
  },
  {
   "cell_type": "code",
   "execution_count": null,
   "metadata": {},
   "outputs": [],
   "source": [
    "import requests\n",
    "from bs4 import BeautifulSoup\n",
    "from selenium import webdriver\n",
    "from selenium.webdriver.common.desired_capabilities import DesiredCapabilities\n",
    "import time\n",
    "\n",
    "# source_code = requests.get('http://fantasy.espn.com/basketball/league/standings?leagueId=633975')\n",
    "\n",
    "options = webdriver.ChromeOptions()\n",
    "options.add_argument('headless')\n",
    "capa = DesiredCapabilities.CHROME\n",
    "capa[\"pageLoadStrategy\"] = \"none\"\n",
    "driver = webdriver.Chrome(options=options, desired_capabilities=capa)\n",
    "driver.set_window_size(1440,900)\n",
    "driver.get('http://fantasy.espn.com/basketball/league/standings?leagueId=633975')\n",
    "time.sleep(15)\n",
    "\n",
    "plain_text = driver.page_source\n",
    "soup = BeautifulSoup(plain_text, 'lxml')\n",
    "\n",
    "soup.select('.Table2__header-row') # Returns full results.\n",
    "\n",
    "len(soup.select('.Table2__header-row')) # 8"
   ]
  },
  {
   "cell_type": "markdown",
   "metadata": {},
   "source": [
    "### Notes"
   ]
  },
  {
   "cell_type": "markdown",
   "metadata": {},
   "source": [
    "<h5> find, find_all attributes : (id='the_id',class_='the_class')\n",
    "    to get text use soup_item.get_text()"
   ]
  }
 ],
 "metadata": {
  "kernelspec": {
   "display_name": "Python 3",
   "language": "python",
   "name": "python3"
  },
  "language_info": {
   "codemirror_mode": {
    "name": "ipython",
    "version": 3
   },
   "file_extension": ".py",
   "mimetype": "text/x-python",
   "name": "python",
   "nbconvert_exporter": "python",
   "pygments_lexer": "ipython3",
   "version": "3.7.4"
  }
 },
 "nbformat": 4,
 "nbformat_minor": 2
}
