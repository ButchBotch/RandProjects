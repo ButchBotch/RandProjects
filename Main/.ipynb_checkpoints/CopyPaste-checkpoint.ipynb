{
 "cells": [
  {
   "cell_type": "markdown",
   "metadata": {},
   "source": [
    "## Copy Paste "
   ]
  },
  {
   "cell_type": "code",
   "execution_count": 1,
   "metadata": {},
   "outputs": [],
   "source": [
    "import shutil\n",
    "import os\n",
    "import re"
   ]
  },
  {
   "cell_type": "code",
   "execution_count": 2,
   "metadata": {},
   "outputs": [],
   "source": [
    "# Function to convert   \n",
    "def listToString(s):  \n",
    "    \n",
    "    # initialize an empty string \n",
    "    str1 = \" \" \n",
    "    \n",
    "    # return string   \n",
    "    return (str1.join(s)) "
   ]
  },
  {
   "cell_type": "code",
   "execution_count": 3,
   "metadata": {},
   "outputs": [
    {
     "data": {
      "text/plain": [
       "['pygame', 'pygame-1.9.6.dist-info']"
      ]
     },
     "execution_count": 3,
     "metadata": {},
     "output_type": "execute_result"
    }
   ],
   "source": [
    "# Find folders with \"pygame\" in name\n",
    "initial = '/usr/local/lib/python3.7/site-packages/'\n",
    "target_folder = '/usr/local/anaconda3/lib/python3.7/site-packages/'\n",
    "\n",
    "contents = os.listdir(initial)\n",
    "#texte = listToString(contents)\n",
    "desired_items=[]\n",
    "\n",
    "for i in contents:\n",
    "    desired_item_temp = re.findall('pygam.+', i) ####### THIS YOU EDIT #######\n",
    "    texte = listToString(desired_item_temp)\n",
    "    if texte == i:\n",
    "        desired_items.append(texte)\n",
    "desired_items"
   ]
  },
  {
   "cell_type": "code",
   "execution_count": 4,
   "metadata": {},
   "outputs": [
    {
     "name": "stdout",
     "output_type": "stream",
     "text": [
      "desired_initial_item : ['/usr/local/lib/python3.7/site-packages/pygame', '/usr/local/lib/python3.7/site-packages/pygame-1.9.6.dist-info'] \n",
      "target_dirs : ['/usr/local/anaconda3/lib/python3.7/site-packages/pygame', '/usr/local/anaconda3/lib/python3.7/site-packages/pygame-1.9.6.dist-info']\n"
     ]
    }
   ],
   "source": [
    "desired_initial_item = []\n",
    "target_dirs =[]\n",
    "\n",
    "for i in range(len(desired_items)):\n",
    "    desired_initial_item.append(initial+desired_items[i])\n",
    "    target_dirs.append(target_folder+desired_items[i])\n",
    "print('desired_initial_item :',desired_initial_item,'\\ntarget_dirs :',target_dirs)"
   ]
  },
  {
   "cell_type": "code",
   "execution_count": 5,
   "metadata": {},
   "outputs": [],
   "source": [
    "for i in range(len(desired_items)):\n",
    "    original = desired_initial_item[i]\n",
    "    target = target_dirs[i]\n",
    "    shutil.copytree(original, target)"
   ]
  }
 ],
 "metadata": {
  "kernelspec": {
   "display_name": "Python 3",
   "language": "python",
   "name": "python3"
  },
  "language_info": {
   "codemirror_mode": {
    "name": "ipython",
    "version": 3
   },
   "file_extension": ".py",
   "mimetype": "text/x-python",
   "name": "python",
   "nbconvert_exporter": "python",
   "pygments_lexer": "ipython3",
   "version": "3.7.4"
  }
 },
 "nbformat": 4,
 "nbformat_minor": 2
}
