{
 "cells": [
  {
   "cell_type": "code",
   "execution_count": null,
   "metadata": {},
   "outputs": [],
   "source": [
    "import numpy as np\n",
    "import pandas as pd\n",
    "\n",
    "\"Exponential Moving Average\"\n"
   ]
  },
  {
   "cell_type": "code",
   "execution_count": null,
   "metadata": {},
   "outputs": [],
   "source": [
    "import itertools\n",
    "import string\n",
    "import time \n",
    "\n",
    "start = time.time()\n",
    "attempts=0\n",
    "\n",
    "def guess_password(real):\n",
    "    chars = string.ascii_lowercase + string.ascii_uppercase + string.digits \n",
    "    attempts = 0\n",
    "    password_length=9\n",
    "    for guess in itertools.product(chars, repeat=password_length):\n",
    "        attempts += 1\n",
    "        guess = ''.join(guess)\n",
    "        if guess == real:\n",
    "            return 'password is {}. found in {} guesses.'.format(guess, attempts)\n",
    "        attempts+=1 #print(guess, attempts)\n",
    "        \n",
    "end=time.time()\n",
    "time_spent=end-start\n",
    "print(guess_password('aaaaaaaC9'))\n",
    "print('Time spent :', time_spent, '\\nattempts :', attempts)"
   ]
  },
  {
   "cell_type": "code",
   "execution_count": 1,
   "metadata": {},
   "outputs": [
    {
     "name": "stdout",
     "output_type": "stream",
     "text": [
      "possible_combinations : 13537086546263552\n"
     ]
    }
   ],
   "source": [
    "# Calculate number of possible combinations of password\n",
    "digits=9\n",
    "possible_values=26+26+10\n",
    "possible_combinations=possible_values**digits\n",
    "print('Possible combinations :', possible_combinations)"
   ]
  },
  {
   "cell_type": "code",
   "execution_count": null,
   "metadata": {},
   "outputs": [],
   "source": [
    "# Time required for all combinations\n",
    "required_time=(time_spent/attempts)*possible_combinations\n",
    "print('Required time for all combinations :', required_time)"
   ]
  },
  {
   "cell_type": "code",
   "execution_count": null,
   "metadata": {},
   "outputs": [],
   "source": []
  }
 ],
 "metadata": {
  "kernelspec": {
   "display_name": "Python 3",
   "language": "python",
   "name": "python3"
  },
  "language_info": {
   "codemirror_mode": {
    "name": "ipython",
    "version": 3
   },
   "file_extension": ".py",
   "mimetype": "text/x-python",
   "name": "python",
   "nbconvert_exporter": "python",
   "pygments_lexer": "ipython3",
   "version": "3.7.4"
  }
 },
 "nbformat": 4,
 "nbformat_minor": 2
}
