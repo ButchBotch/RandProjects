{
 "cells": [
  {
   "cell_type": "code",
   "execution_count": null,
   "metadata": {},
   "outputs": [],
   "source": [
    "# Monthly Interest Calculation\n",
    "import numpy as np\n",
    "\n",
    "# Time frame \n",
    "years = 5\n",
    "\n",
    "# Annual interest rate\n",
    "interest_rate = 0.06\n",
    "\n",
    "# Amount invested (or borrowed)\n",
    "capital = 4000 # initial investment\n",
    "monthly_investment = 600 # additional monthly investments\n",
    "\n",
    "\n",
    "\n",
    "# Adjusting for 2.2% inflation annually\n",
    "inflation_rate = 0.022\n",
    "\n",
    "# Fix for monthly interest and annual inflation\n",
    "months = years * 12\n",
    "monthly_interest_rate = interest_rate / 12\n",
    "annual_investment = monthly_investment * 12\n",
    "\n",
    "final_amount = capital \n",
    "monthly_outcome = np.empty([months,1])\n",
    "lost_value = np.empty([years,1])\n",
    "final_amount2 = np.empty([years,1])\n",
    "\n",
    "# Interest applied monthly\n",
    "for i in range(0,months):\n",
    "    final_amount = (final_amount + monthly_investment) * (1+monthly_interest_rate)    \n",
    "    monthly_outcome[i] = np.float(final_amount)\n",
    "\n",
    "\n",
    "# Inflation applied annually    \n",
    "for i in range(0,years):\n",
    "    final_amount2[i] = np.float(monthly_outcome[12*i+11])\n",
    "    lost_value[i]= np.float((final_amount2[i]) * (inflation_rate))\n",
    "    #inflation_adj[i] = np.float((final_amount2[i]) * (1-inflation_rate))\n",
    "inflation_adj=np.float((final_amount)-np.sum(lost_value))\n",
    "    \n",
    "print(\"Amount invested:\", capital+annual_investment*years)\n",
    "print(\"Earnings from interest:\", final_amount-(capital+monthly_investment*months))\n",
    "print(\"Inflation-adjusted earnings:\", np.float(inflation_adj-(capital+monthly_investment*months)))\n",
    "print(\"Total amount of money after\",years,\"years:\",final_amount)\n",
    "print(\"Adjusting for 2% inflation annually:\",np.float(inflation_adj))"
   ]
  }
 ],
 "metadata": {
  "kernelspec": {
   "display_name": "Python 3",
   "language": "python",
   "name": "python3"
  },
  "language_info": {
   "codemirror_mode": {
    "name": "ipython",
    "version": 3
   },
   "file_extension": ".py",
   "mimetype": "text/x-python",
   "name": "python",
   "nbconvert_exporter": "python",
   "pygments_lexer": "ipython3",
   "version": "3.7.3"
  }
 },
 "nbformat": 4,
 "nbformat_minor": 2
}
