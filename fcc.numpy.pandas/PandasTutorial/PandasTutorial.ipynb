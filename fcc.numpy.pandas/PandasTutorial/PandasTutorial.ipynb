{
 "cells": [
  {
   "cell_type": "code",
   "execution_count": null,
   "metadata": {},
   "outputs": [],
   "source": [
    "import pandas as pd\n",
    "\n",
    "# Read CSV\n",
    "df=pd.read_csv('pokemon_datacsv.csv')\n",
    "print(df.head()) # tail(50) to see last 50 rows\n",
    "\n",
    "# Read .xlsx\n",
    "# df_xlsx=pd.read_excel('pokemon_data.xlsx')\n",
    "# Read .txt\n",
    "# df_txt=pd.read_csv('pokemon_data.txt',delimiter='\\t')\n"
   ]
  },
  {
   "cell_type": "code",
   "execution_count": null,
   "metadata": {},
   "outputs": [],
   "source": [
    "print('columns :\\n' ,df.columns)\n",
    "#print(df['Name','Type 1']) # alternatively df.Name\n",
    "\n",
    "# Read each row\n",
    "print('\\niloc:\\n',df.iloc[0:5])\n",
    "\n",
    "# read specific location(r,c)\n",
    "print('\\nelement (2,1):\\n',df.iloc[2,1],'\\n')\n",
    "\n",
    "#for index,row in df.iterrows():\n",
    "#    print(index,row['Name']) #or row.Name\n",
    "\n",
    "#print('\\nFire:\\n',df.loc[df['Type 1']=='Fire'& df.loc[df['#']<100]]) #Grass whatever\n",
    "q1=df.loc[df['Type 1']=='Fire']\n",
    "q2=q1.loc[q1['#']<100]\n",
    "print('q1:\\n',q1,'\\n\\n\\nq2:\\n',q2)\n",
    "#df.describe to see some random shit like mean std etc."
   ]
  },
  {
   "cell_type": "code",
   "execution_count": null,
   "metadata": {},
   "outputs": [],
   "source": [
    "df.sort_values(['Type 1','HP','Name'],ascending=[1,1,0])"
   ]
  },
  {
   "cell_type": "code",
   "execution_count": null,
   "metadata": {},
   "outputs": [],
   "source": [
    "df['Total'] = 2*df['HP'] + 1.5*df['Attack'] + 1.5*df['Defense'] + df['Sp. Atk'] + df['Sp. Def'] + 0.8*df['Speed']\n",
    "akak=df.sort_values('Total', ascending=False)\n",
    "print('MyTotal:\\n',akak.head(30))\n",
    "# df.drop(columns=['Total']) # DROP COLUMN??\n",
    "df['Total2']=df.iloc[:,4:10].sum(axis=1)\n",
    "kaka=df.sort_values('Total2', ascending=False)\n",
    "print('\\n\\n\\nBasicTotal:\\n',kaka.head(30))"
   ]
  },
  {
   "cell_type": "code",
   "execution_count": null,
   "metadata": {},
   "outputs": [],
   "source": [
    "# rearranging the table\n",
    "cols=list(df.columns.values)\n",
    "df3=df.copy()\n",
    "df3=df3[cols[0:4]+[cols[-2]]+cols[4:12]]\n",
    "print(df3)"
   ]
  },
  {
   "cell_type": "code",
   "execution_count": null,
   "metadata": {},
   "outputs": [],
   "source": [
    "#save to csv excel txt\n",
    "df3.to_csv('modified.csv',index=False) #df3.to_excel('modfied.xlsx',index=False)\n",
    "df3.to_csv('modified.txt',index=False, sep='\\t')"
   ]
  },
  {
   "cell_type": "code",
   "execution_count": null,
   "metadata": {},
   "outputs": [],
   "source": [
    "new_df=df.loc[(df['Type 1']=='Grass') & (df['Type 2']=='Poison') & (df.HP>60)]\n",
    "new_df.to_csv('grasshp.csv')\n",
    "newst_df=new_df.reset_index(drop=True)\n",
    "print(newst_df)"
   ]
  },
  {
   "cell_type": "code",
   "execution_count": null,
   "metadata": {},
   "outputs": [],
   "source": [
    "import re\n",
    "\n",
    "df4=df.loc[df['Type 1'].str.contains('fire|grass', flags=re.I, regex=True)]\n",
    "df4=df.loc[df['Name'].str.contains('^pi[A-Z]*', flags=re.I, regex=True)]\n",
    "print(df4)"
   ]
  },
  {
   "cell_type": "code",
   "execution_count": null,
   "metadata": {},
   "outputs": [],
   "source": [
    "df_flamer.loc[df_flamer['Type 1']=='Fire','Type 1'] ='Flamer'\n",
    "df_flamer.loc[df_flamer['Total']>500, ['Generation','Legendary']]=['X','Loco']\n",
    "print(df_flamer)"
   ]
  },
  {
   "cell_type": "code",
   "execution_count": null,
   "metadata": {},
   "outputs": [],
   "source": [
    "df=pd.read_csv('modified.csv')\n",
    "#df.groupby(['Type 1']).mean().sort_values('Total', ascending=False) # can sum() instead of mean\n",
    "df['count']=1\n",
    "groupby=df.groupby(['Type 1','Type 2']).count()['count']\n",
    "print(groupby)"
   ]
  },
  {
   "cell_type": "code",
   "execution_count": null,
   "metadata": {},
   "outputs": [],
   "source": [
    "#count ow many in each type\n"
   ]
  },
  {
   "cell_type": "code",
   "execution_count": null,
   "metadata": {},
   "outputs": [],
   "source": []
  }
 ],
 "metadata": {
  "kernelspec": {
   "display_name": "Python 3",
   "language": "python",
   "name": "python3"
  },
  "language_info": {
   "codemirror_mode": {
    "name": "ipython",
    "version": 3
   },
   "file_extension": ".py",
   "mimetype": "text/x-python",
   "name": "python",
   "nbconvert_exporter": "python",
   "pygments_lexer": "ipython3",
   "version": "3.7.4"
  }
 },
 "nbformat": 4,
 "nbformat_minor": 2
}
