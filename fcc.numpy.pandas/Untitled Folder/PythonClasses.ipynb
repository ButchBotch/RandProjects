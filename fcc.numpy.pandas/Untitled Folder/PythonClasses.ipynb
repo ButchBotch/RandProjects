{
 "cells": [
  {
   "cell_type": "code",
   "execution_count": 7,
   "metadata": {},
   "outputs": [
    {
     "name": "stdout",
     "output_type": "stream",
     "text": [
      "Square\n",
      "5\n",
      "360\n",
      "90.0\n"
     ]
    }
   ],
   "source": [
    "class Polygon:\n",
    "    def __init__(self,sides,name):\n",
    "        self.sides=sides\n",
    "        self.name=name\n",
    "        self.interior_angles=(self.sides-2)*180\n",
    "        self.angle=self.interior_angles/self.sides\n",
    "        \n",
    "        \n",
    "square=Polygon(4,'Square')\n",
    "pentagon = Polygon(5,'Pentagon')\n",
    "hexagon = Polygon(6,'Hexagon')\n",
    "\n",
    "print(square.name)\n",
    "print(pentagon.sides)\n",
    "print(square.interior_angles)\n",
    "print(square.angle)\n",
    "\n",
    "# turtle in jupyter crashes osx\n"
   ]
  },
  {
   "cell_type": "code",
   "execution_count": 14,
   "metadata": {},
   "outputs": [
    {
     "name": "stdout",
     "output_type": "stream",
     "text": [
      "5 7\n"
     ]
    }
   ],
   "source": [
    "import matplotlib.pyplot as plt\n",
    "\n",
    "class Point:\n",
    "    def __init__(self,x,y):\n",
    "        self.x=x\n",
    "        self.y=y\n",
    "        \n",
    "    def __add__(self,other):\n",
    "        if isinstance(other,Point):\n",
    "            x=self.x+other.x\n",
    "            y=self.y+other.y\n",
    "            return Point(x,y)\n",
    "        else:\n",
    "            x=self.x+other\n",
    "            y=self.y+other\n",
    "            return Point(x,y)\n",
    "        \n",
    "    def plot(self):\n",
    "        plt.scatter(self.x,self.y)\n",
    "        \n",
    "a = Point(0,2)\n",
    "d=a+5\n",
    "\n",
    "print(d.x,d.y)"
   ]
  },
  {
   "cell_type": "code",
   "execution_count": null,
   "metadata": {},
   "outputs": [],
   "source": []
  }
 ],
 "metadata": {
  "kernelspec": {
   "display_name": "Python 3",
   "language": "python",
   "name": "python3"
  },
  "language_info": {
   "codemirror_mode": {
    "name": "ipython",
    "version": 3
   },
   "file_extension": ".py",
   "mimetype": "text/x-python",
   "name": "python",
   "nbconvert_exporter": "python",
   "pygments_lexer": "ipython3",
   "version": "3.7.4"
  }
 },
 "nbformat": 4,
 "nbformat_minor": 2
}
